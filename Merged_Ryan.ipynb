{
 "cells": [
  {
   "cell_type": "markdown",
   "metadata": {},
   "source": [
    "# Import Dependencies"
   ]
  },
  {
   "cell_type": "code",
   "execution_count": 1,
   "metadata": {},
   "outputs": [],
   "source": [
    "import matplotlib.pyplot as plt\n",
    "import pandas as pd\n",
    "import scipy.stats as st\n",
    "import numpy as np\n",
    "import statsmodels.api as sm\n",
    "import seaborn as sn\n",
    "import gmaps\n",
    "import json\n",
    "from scipy.stats import sem,chisquare\n",
    "from scipy.stats import linregress\n",
    "from api_keys import g_key"
   ]
  },
  {
   "cell_type": "markdown",
   "metadata": {},
   "source": [
    "# Import Google Maps API Key"
   ]
  },
  {
   "cell_type": "code",
   "execution_count": 2,
   "metadata": {},
   "outputs": [],
   "source": [
    "gmaps.configure(api_key=g_key)"
   ]
  },
  {
   "cell_type": "markdown",
   "metadata": {},
   "source": [
    "# Import Crime Data"
   ]
  },
  {
   "cell_type": "code",
   "execution_count": 3,
   "metadata": {},
   "outputs": [
    {
     "data": {
      "text/html": [
       "<div>\n",
       "<style scoped>\n",
       "    .dataframe tbody tr th:only-of-type {\n",
       "        vertical-align: middle;\n",
       "    }\n",
       "\n",
       "    .dataframe tbody tr th {\n",
       "        vertical-align: top;\n",
       "    }\n",
       "\n",
       "    .dataframe thead th {\n",
       "        text-align: right;\n",
       "    }\n",
       "</style>\n",
       "<table border=\"1\" class=\"dataframe\">\n",
       "  <thead>\n",
       "    <tr style=\"text-align: right;\">\n",
       "      <th></th>\n",
       "      <th>Unnamed: 0</th>\n",
       "      <th>Census_Tract</th>\n",
       "      <th>Pct_Pop_Below_Pov</th>\n",
       "      <th>Pct_Child_Below_Pov</th>\n",
       "      <th>Offense</th>\n",
       "      <th>Method</th>\n",
       "      <th>Latitude</th>\n",
       "      <th>Longitude</th>\n",
       "      <th>Start_Date</th>\n",
       "      <th>CCN</th>\n",
       "    </tr>\n",
       "  </thead>\n",
       "  <tbody>\n",
       "    <tr>\n",
       "      <th>0</th>\n",
       "      <td>0</td>\n",
       "      <td>201</td>\n",
       "      <td>100.0</td>\n",
       "      <td>25.055524</td>\n",
       "      <td>THEFT/OTHER</td>\n",
       "      <td>OTHERS</td>\n",
       "      <td>38.912577</td>\n",
       "      <td>-77.073401</td>\n",
       "      <td>2017-10-18 17:00:00+00:00</td>\n",
       "      <td>17401735</td>\n",
       "    </tr>\n",
       "    <tr>\n",
       "      <th>1</th>\n",
       "      <td>1</td>\n",
       "      <td>201</td>\n",
       "      <td>100.0</td>\n",
       "      <td>25.055524</td>\n",
       "      <td>THEFT/OTHER</td>\n",
       "      <td>OTHERS</td>\n",
       "      <td>38.912603</td>\n",
       "      <td>-77.074958</td>\n",
       "      <td>2017-11-20 05:55:00+00:00</td>\n",
       "      <td>17401924</td>\n",
       "    </tr>\n",
       "    <tr>\n",
       "      <th>2</th>\n",
       "      <td>2</td>\n",
       "      <td>201</td>\n",
       "      <td>100.0</td>\n",
       "      <td>25.055524</td>\n",
       "      <td>THEFT/OTHER</td>\n",
       "      <td>OTHERS</td>\n",
       "      <td>38.910192</td>\n",
       "      <td>-77.069144</td>\n",
       "      <td>2017-07-18 18:15:00+00:00</td>\n",
       "      <td>17401306</td>\n",
       "    </tr>\n",
       "  </tbody>\n",
       "</table>\n",
       "</div>"
      ],
      "text/plain": [
       "   Unnamed: 0  Census_Tract  Pct_Pop_Below_Pov  Pct_Child_Below_Pov  \\\n",
       "0           0           201              100.0            25.055524   \n",
       "1           1           201              100.0            25.055524   \n",
       "2           2           201              100.0            25.055524   \n",
       "\n",
       "       Offense  Method   Latitude  Longitude                 Start_Date  \\\n",
       "0  THEFT/OTHER  OTHERS  38.912577 -77.073401  2017-10-18 17:00:00+00:00   \n",
       "1  THEFT/OTHER  OTHERS  38.912603 -77.074958  2017-11-20 05:55:00+00:00   \n",
       "2  THEFT/OTHER  OTHERS  38.910192 -77.069144  2017-07-18 18:15:00+00:00   \n",
       "\n",
       "        CCN  \n",
       "0  17401735  \n",
       "1  17401924  \n",
       "2  17401306  "
      ]
     },
     "execution_count": 3,
     "metadata": {},
     "output_type": "execute_result"
    }
   ],
   "source": [
    "filepath = \"Resources/merged_final.csv\"\n",
    "df = pd.read_csv(filepath, low_memory=False)\n",
    "\n",
    "df.head(3)"
   ]
  },
  {
   "cell_type": "markdown",
   "metadata": {},
   "source": [
    "# Find Null Values"
   ]
  },
  {
   "cell_type": "markdown",
   "metadata": {},
   "source": [
    "### Identify Columns with NaN"
   ]
  },
  {
   "cell_type": "code",
   "execution_count": 4,
   "metadata": {},
   "outputs": [
    {
     "data": {
      "text/plain": [
       "Unnamed: 0             0\n",
       "Census_Tract           0\n",
       "Pct_Pop_Below_Pov      0\n",
       "Pct_Child_Below_Pov    0\n",
       "Offense                0\n",
       "Method                 0\n",
       "Latitude               0\n",
       "Longitude              0\n",
       "Start_Date             0\n",
       "CCN                    0\n",
       "dtype: int64"
      ]
     },
     "execution_count": 4,
     "metadata": {},
     "output_type": "execute_result"
    }
   ],
   "source": [
    "count_nan_in_df = df.isnull().sum()\n",
    "#print (count_nan_in_df)\n",
    "count_nan_in_df"
   ]
  },
  {
   "cell_type": "code",
   "execution_count": 5,
   "metadata": {},
   "outputs": [
    {
     "name": "stdout",
     "output_type": "stream",
     "text": [
      "<class 'pandas.core.frame.DataFrame'>\n",
      "RangeIndex: 19759 entries, 0 to 19758\n",
      "Data columns (total 10 columns):\n",
      " #   Column               Non-Null Count  Dtype  \n",
      "---  ------               --------------  -----  \n",
      " 0   Unnamed: 0           19759 non-null  int64  \n",
      " 1   Census_Tract         19759 non-null  int64  \n",
      " 2   Pct_Pop_Below_Pov    19759 non-null  float64\n",
      " 3   Pct_Child_Below_Pov  19759 non-null  float64\n",
      " 4   Offense              19759 non-null  object \n",
      " 5   Method               19759 non-null  object \n",
      " 6   Latitude             19759 non-null  float64\n",
      " 7   Longitude            19759 non-null  float64\n",
      " 8   Start_Date           19759 non-null  object \n",
      " 9   CCN                  19759 non-null  int64  \n",
      "dtypes: float64(4), int64(3), object(3)\n",
      "memory usage: 1.5+ MB\n"
     ]
    }
   ],
   "source": [
    "df.info()"
   ]
  },
  {
   "cell_type": "markdown",
   "metadata": {},
   "source": [
    "# Convert Date Columns to Date Type"
   ]
  },
  {
   "cell_type": "code",
   "execution_count": 6,
   "metadata": {},
   "outputs": [],
   "source": [
    "df['Start_Date'] = pd.to_datetime(df['Start_Date'], format='%Y-%m-%dT%H:%M:%S.%f')"
   ]
  },
  {
   "cell_type": "markdown",
   "metadata": {},
   "source": [
    "### Confirm Columns are now Timestamps"
   ]
  },
  {
   "cell_type": "code",
   "execution_count": 7,
   "metadata": {},
   "outputs": [
    {
     "data": {
      "text/plain": [
       "Timestamp('2017-11-20 05:55:00+0000', tz='UTC')"
      ]
     },
     "execution_count": 7,
     "metadata": {},
     "output_type": "execute_result"
    }
   ],
   "source": [
    "df['Start_Date'][1]"
   ]
  },
  {
   "cell_type": "markdown",
   "metadata": {},
   "source": [
    "# Convert Census_Trac Column to String"
   ]
  },
  {
   "cell_type": "code",
   "execution_count": 8,
   "metadata": {},
   "outputs": [
    {
     "data": {
      "text/plain": [
       "str"
      ]
     },
     "execution_count": 8,
     "metadata": {},
     "output_type": "execute_result"
    }
   ],
   "source": [
    "df['Census_Tract'] = df['Census_Tract'].astype(str)\n",
    "type(df['Census_Tract'][1])"
   ]
  },
  {
   "cell_type": "markdown",
   "metadata": {},
   "source": [
    "# Plot TimeSeries Of Crime"
   ]
  },
  {
   "cell_type": "markdown",
   "metadata": {},
   "source": [
    "### Filter for 2017 Data Only"
   ]
  },
  {
   "cell_type": "code",
   "execution_count": 9,
   "metadata": {},
   "outputs": [],
   "source": [
    "mask = df['Start_Date'] > '2017-01-01 00:00:00+0000'"
   ]
  },
  {
   "cell_type": "code",
   "execution_count": 10,
   "metadata": {},
   "outputs": [
    {
     "name": "stderr",
     "output_type": "stream",
     "text": [
      "/home/bdr/anaconda3/lib/python3.7/site-packages/ipykernel_launcher.py:2: SettingWithCopyWarning: \n",
      "A value is trying to be set on a copy of a slice from a DataFrame\n",
      "\n",
      "See the caveats in the documentation: https://pandas.pydata.org/pandas-docs/stable/user_guide/indexing.html#returning-a-view-versus-a-copy\n",
      "  \n",
      "/home/bdr/anaconda3/lib/python3.7/site-packages/pandas/core/frame.py:3997: SettingWithCopyWarning: \n",
      "A value is trying to be set on a copy of a slice from a DataFrame\n",
      "\n",
      "See the caveats in the documentation: https://pandas.pydata.org/pandas-docs/stable/user_guide/indexing.html#returning-a-view-versus-a-copy\n",
      "  errors=errors,\n"
     ]
    },
    {
     "data": {
      "text/html": [
       "<div>\n",
       "<style scoped>\n",
       "    .dataframe tbody tr th:only-of-type {\n",
       "        vertical-align: middle;\n",
       "    }\n",
       "\n",
       "    .dataframe tbody tr th {\n",
       "        vertical-align: top;\n",
       "    }\n",
       "\n",
       "    .dataframe thead th {\n",
       "        text-align: right;\n",
       "    }\n",
       "</style>\n",
       "<table border=\"1\" class=\"dataframe\">\n",
       "  <thead>\n",
       "    <tr style=\"text-align: right;\">\n",
       "      <th></th>\n",
       "      <th>Census_Tract</th>\n",
       "      <th>Pct_Pop_Below_Pov</th>\n",
       "      <th>Pct_Child_Below_Pov</th>\n",
       "      <th>Offense</th>\n",
       "      <th>Method</th>\n",
       "      <th>Latitude</th>\n",
       "      <th>Longitude</th>\n",
       "      <th>Start_Date</th>\n",
       "      <th>CCN</th>\n",
       "    </tr>\n",
       "  </thead>\n",
       "  <tbody>\n",
       "    <tr>\n",
       "      <th>19612</th>\n",
       "      <td>9301</td>\n",
       "      <td>10.4</td>\n",
       "      <td>1.4</td>\n",
       "      <td>THEFT F/AUTO</td>\n",
       "      <td>OTHERS</td>\n",
       "      <td>38.928129</td>\n",
       "      <td>-76.980002</td>\n",
       "      <td>2017-01-01 00:30:20+00:00</td>\n",
       "      <td>17000271</td>\n",
       "    </tr>\n",
       "    <tr>\n",
       "      <th>19613</th>\n",
       "      <td>7804</td>\n",
       "      <td>28.4</td>\n",
       "      <td>52.9</td>\n",
       "      <td>BURGLARY</td>\n",
       "      <td>OTHERS</td>\n",
       "      <td>38.898344</td>\n",
       "      <td>-76.926567</td>\n",
       "      <td>2017-01-01 00:01:46+00:00</td>\n",
       "      <td>17002228</td>\n",
       "    </tr>\n",
       "    <tr>\n",
       "      <th>19614</th>\n",
       "      <td>5201</td>\n",
       "      <td>7.1</td>\n",
       "      <td>0.0</td>\n",
       "      <td>THEFT F/AUTO</td>\n",
       "      <td>OTHERS</td>\n",
       "      <td>38.907235</td>\n",
       "      <td>-77.033262</td>\n",
       "      <td>2017-01-01 00:01:38+00:00</td>\n",
       "      <td>17068950</td>\n",
       "    </tr>\n",
       "  </tbody>\n",
       "</table>\n",
       "</div>"
      ],
      "text/plain": [
       "      Census_Tract  Pct_Pop_Below_Pov  Pct_Child_Below_Pov       Offense  \\\n",
       "19612         9301               10.4                  1.4  THEFT F/AUTO   \n",
       "19613         7804               28.4                 52.9      BURGLARY   \n",
       "19614         5201                7.1                  0.0  THEFT F/AUTO   \n",
       "\n",
       "       Method   Latitude  Longitude                Start_Date       CCN  \n",
       "19612  OTHERS  38.928129 -76.980002 2017-01-01 00:30:20+00:00  17000271  \n",
       "19613  OTHERS  38.898344 -76.926567 2017-01-01 00:01:46+00:00  17002228  \n",
       "19614  OTHERS  38.907235 -77.033262 2017-01-01 00:01:38+00:00  17068950  "
      ]
     },
     "execution_count": 10,
     "metadata": {},
     "output_type": "execute_result"
    }
   ],
   "source": [
    "df_2017 = df.loc[mask]\n",
    "df_2017.sort_values('Start_Date', ascending=False, inplace=True)\n",
    "df_2017.drop('Unnamed: 0', axis=1, inplace=True)\n",
    "df_2017.reset_index(drop=True, inplace=True)\n",
    "df_2017.tail(3)"
   ]
  },
  {
   "cell_type": "markdown",
   "metadata": {},
   "source": [
    "### Validation: Output Most Recent Timestamp"
   ]
  },
  {
   "cell_type": "code",
   "execution_count": 11,
   "metadata": {},
   "outputs": [
    {
     "data": {
      "text/plain": [
       "Timestamp('2017-12-31 21:47:23+0000', tz='UTC')"
      ]
     },
     "execution_count": 11,
     "metadata": {},
     "output_type": "execute_result"
    }
   ],
   "source": [
    "df_2017['Start_Date'].max()"
   ]
  },
  {
   "cell_type": "markdown",
   "metadata": {},
   "source": [
    "### Filter for January 2017 Data Only"
   ]
  },
  {
   "cell_type": "code",
   "execution_count": 12,
   "metadata": {},
   "outputs": [
    {
     "data": {
      "text/html": [
       "<div>\n",
       "<style scoped>\n",
       "    .dataframe tbody tr th:only-of-type {\n",
       "        vertical-align: middle;\n",
       "    }\n",
       "\n",
       "    .dataframe tbody tr th {\n",
       "        vertical-align: top;\n",
       "    }\n",
       "\n",
       "    .dataframe thead th {\n",
       "        text-align: right;\n",
       "    }\n",
       "</style>\n",
       "<table border=\"1\" class=\"dataframe\">\n",
       "  <thead>\n",
       "    <tr style=\"text-align: right;\">\n",
       "      <th></th>\n",
       "      <th>Census_Tract</th>\n",
       "      <th>Pct_Pop_Below_Pov</th>\n",
       "      <th>Pct_Child_Below_Pov</th>\n",
       "      <th>Offense</th>\n",
       "      <th>Method</th>\n",
       "      <th>Latitude</th>\n",
       "      <th>Longitude</th>\n",
       "      <th>Start_Date</th>\n",
       "      <th>CCN</th>\n",
       "    </tr>\n",
       "  </thead>\n",
       "  <tbody>\n",
       "    <tr>\n",
       "      <th>1779</th>\n",
       "      <td>9301</td>\n",
       "      <td>10.4</td>\n",
       "      <td>1.4</td>\n",
       "      <td>THEFT F/AUTO</td>\n",
       "      <td>OTHERS</td>\n",
       "      <td>38.928129</td>\n",
       "      <td>-76.980002</td>\n",
       "      <td>2017-01-01 00:30:20+00:00</td>\n",
       "      <td>17000271</td>\n",
       "    </tr>\n",
       "    <tr>\n",
       "      <th>1780</th>\n",
       "      <td>7804</td>\n",
       "      <td>28.4</td>\n",
       "      <td>52.9</td>\n",
       "      <td>BURGLARY</td>\n",
       "      <td>OTHERS</td>\n",
       "      <td>38.898344</td>\n",
       "      <td>-76.926567</td>\n",
       "      <td>2017-01-01 00:01:46+00:00</td>\n",
       "      <td>17002228</td>\n",
       "    </tr>\n",
       "    <tr>\n",
       "      <th>1781</th>\n",
       "      <td>5201</td>\n",
       "      <td>7.1</td>\n",
       "      <td>0.0</td>\n",
       "      <td>THEFT F/AUTO</td>\n",
       "      <td>OTHERS</td>\n",
       "      <td>38.907235</td>\n",
       "      <td>-77.033262</td>\n",
       "      <td>2017-01-01 00:01:38+00:00</td>\n",
       "      <td>17068950</td>\n",
       "    </tr>\n",
       "  </tbody>\n",
       "</table>\n",
       "</div>"
      ],
      "text/plain": [
       "     Census_Tract  Pct_Pop_Below_Pov  Pct_Child_Below_Pov       Offense  \\\n",
       "1779         9301               10.4                  1.4  THEFT F/AUTO   \n",
       "1780         7804               28.4                 52.9      BURGLARY   \n",
       "1781         5201                7.1                  0.0  THEFT F/AUTO   \n",
       "\n",
       "      Method   Latitude  Longitude                Start_Date       CCN  \n",
       "1779  OTHERS  38.928129 -76.980002 2017-01-01 00:30:20+00:00  17000271  \n",
       "1780  OTHERS  38.898344 -76.926567 2017-01-01 00:01:46+00:00  17002228  \n",
       "1781  OTHERS  38.907235 -77.033262 2017-01-01 00:01:38+00:00  17068950  "
      ]
     },
     "execution_count": 12,
     "metadata": {},
     "output_type": "execute_result"
    }
   ],
   "source": [
    "mask_Jan = df_2017['Start_Date'] < '2017-01-31 00:00:00+0000'\n",
    "df_January = df_2017.loc[mask_Jan]\n",
    "df_January.reset_index(drop=True, inplace=True)\n",
    "df_January.tail(3)"
   ]
  },
  {
   "cell_type": "markdown",
   "metadata": {},
   "source": [
    "### Timeseries: Incidence of Crime by Time of Day (January 2017)"
   ]
  },
  {
   "cell_type": "code",
   "execution_count": 13,
   "metadata": {},
   "outputs": [
    {
     "data": {
      "image/png": "[encoded data removed]",
      "text/plain": [
       "<Figure size 864x288 with 1 Axes>"
      ]
     },
     "metadata": {
      "needs_background": "light"
     },
     "output_type": "display_data"
    }
   ],
   "source": [
    "fig, axs = plt.subplots(figsize=(12, 4))\n",
    "df_January.groupby(df_January[\"Start_Date\"].dt.hour)[\"CCN\"].count().plot(\n",
    "    kind='bar', rot=0, ax=axs, title=\"Incidence of Crime by Time of Day for January 2017\")\n",
    "plt.xlabel(\"January 2017\");\n",
    "plt.ylabel(\"Number of Incidents\");"
   ]
  },
  {
   "cell_type": "markdown",
   "metadata": {},
   "source": [
    "### Timeseries: Incidence of Crime by Time of Day (2017)"
   ]
  },
  {
   "cell_type": "code",
   "execution_count": 14,
   "metadata": {},
   "outputs": [
    {
     "data": {
      "image/png": "[encoded data removed]",
      "text/plain": [
       "<Figure size 864x288 with 1 Axes>"
      ]
     },
     "metadata": {
      "needs_background": "light"
     },
     "output_type": "display_data"
    }
   ],
   "source": [
    "fig, axs = plt.subplots(figsize=(12, 4))\n",
    "df_2017.groupby(\n",
    "     df_2017[\"Start_Date\"].dt.hour)[\"CCN\"].count().plot(\n",
    "    kind='bar', rot=0, ax=axs, title=\"Incidence of Crime by Time of Day for 2017\")\n",
    "plt.xlabel(\"2017\");\n",
    "plt.ylabel(\"Number of Incidents\");"
   ]
  },
  {
   "cell_type": "markdown",
   "metadata": {},
   "source": [
    "### Timeseries: Incidence of Crime by Day of Week (January 2017)\n",
    "\n",
    "- week starts on Monday, which is denoted by 0 and ends on Sunday which is denoted by 6\n",
    "\n",
    "https://pandas.pydata.org/pandas-docs/stable/reference/api/pandas.DatetimeIndex.dayofweek.html"
   ]
  },
  {
   "cell_type": "code",
   "execution_count": 15,
   "metadata": {},
   "outputs": [
    {
     "data": {
      "image/png": "[encoded data removed]",
      "text/plain": [
       "<Figure size 864x288 with 1 Axes>"
      ]
     },
     "metadata": {
      "needs_background": "light"
     },
     "output_type": "display_data"
    }
   ],
   "source": [
    "fig, axs = plt.subplots(figsize=(12, 4))\n",
    "df_January.groupby(\n",
    "     df_January[\"Start_Date\"].dt.dayofweek)[\"CCN\"].count().plot(\n",
    "    kind='bar', rot=0, ax=axs, title=\"Incidence of Crime by Day of Week for January 2017\")\n",
    "plt.xlabel(\"January 2017\");\n",
    "plt.ylabel(\"Number of Incidents\");"
   ]
  },
  {
   "cell_type": "markdown",
   "metadata": {},
   "source": [
    "### Timeseries: Incidence of Crime by Day of Week (2017)"
   ]
  },
  {
   "cell_type": "code",
   "execution_count": 16,
   "metadata": {},
   "outputs": [
    {
     "data": {
      "image/png": "[encoded data removed]",
      "text/plain": [
       "<Figure size 864x288 with 1 Axes>"
      ]
     },
     "metadata": {
      "needs_background": "light"
     },
     "output_type": "display_data"
    }
   ],
   "source": [
    "fig, axs = plt.subplots(figsize=(12, 4))\n",
    "df_2017.groupby(\n",
    "     df_2017[\"Start_Date\"].dt.dayofweek)[\"CCN\"].count().plot(\n",
    "    kind='bar', rot=0, ax=axs, title=\"Incidence of Crime by Day of Week for 2017\")\n",
    "plt.xlabel(\"2017\");\n",
    "plt.ylabel(\"Number of Incidents\");"
   ]
  },
  {
   "cell_type": "markdown",
   "metadata": {},
   "source": [
    "### Timeseries: Incidence of Crime by Day of Month (January 2017)"
   ]
  },
  {
   "cell_type": "code",
   "execution_count": 17,
   "metadata": {},
   "outputs": [
    {
     "data": {
      "image/png": "[encoded data removed]",
      "text/plain": [
       "<Figure size 864x288 with 1 Axes>"
      ]
     },
     "metadata": {
      "needs_background": "light"
     },
     "output_type": "display_data"
    }
   ],
   "source": [
    "fig, axs = plt.subplots(figsize=(12, 4))\n",
    "df_January.groupby(df_January[\"Start_Date\"].dt.day)[\"CCN\"].count().plot(\n",
    "    kind='bar', rot=0, ax=axs, title=\"Incidence of Crime by Day of Month for January 2017\")\n",
    "plt.xlabel(\"January 2017\");\n",
    "plt.ylabel(\"Number of Incidents\");"
   ]
  },
  {
   "cell_type": "markdown",
   "metadata": {},
   "source": [
    "### Timeseries: Incidence of Crime by Day of Month (2017)"
   ]
  },
  {
   "cell_type": "code",
   "execution_count": 18,
   "metadata": {},
   "outputs": [
    {
     "data": {
      "image/png": "[encoded data removed]",
      "text/plain": [
       "<Figure size 864x288 with 1 Axes>"
      ]
     },
     "metadata": {
      "needs_background": "light"
     },
     "output_type": "display_data"
    }
   ],
   "source": [
    "fig, axs = plt.subplots(figsize=(12, 4))\n",
    "df_2017.groupby(df_2017[\"Start_Date\"].dt.day)[\"CCN\"].count().plot(\n",
    "    kind='bar', rot=0, ax=axs, title=\"Incidence of Crime by Day of Month for 2017\")\n",
    "plt.xlabel(\"2017\");\n",
    "plt.ylabel(\"Number of Incidents\");"
   ]
  },
  {
   "cell_type": "markdown",
   "metadata": {},
   "source": [
    "### Timeseries: Incidence of Crime by Month of Year (2017)"
   ]
  },
  {
   "cell_type": "code",
   "execution_count": 19,
   "metadata": {},
   "outputs": [
    {
     "data": {
      "image/png": "[encoded data removed]",
      "text/plain": [
       "<Figure size 864x288 with 1 Axes>"
      ]
     },
     "metadata": {
      "needs_background": "light"
     },
     "output_type": "display_data"
    }
   ],
   "source": [
    "fig, axs = plt.subplots(figsize=(12, 4))\n",
    "df_2017.groupby(\n",
    "     df_2017[\"Start_Date\"].dt.month)[\"CCN\"].count().plot(\n",
    "    kind='bar', rot=0, ax=axs, title=\"Incidence of Crime by Month for Year 2017\")\n",
    "plt.xlabel(\"Months in 2017\");\n",
    "plt.ylabel(\"Number of Incidents\");"
   ]
  },
  {
   "cell_type": "markdown",
   "metadata": {},
   "source": [
    "# Overview of Data"
   ]
  },
  {
   "cell_type": "code",
   "execution_count": 20,
   "metadata": {
    "scrolled": true
   },
   "outputs": [
    {
     "data": {
      "text/html": [
       "<div>\n",
       "<style scoped>\n",
       "    .dataframe tbody tr th:only-of-type {\n",
       "        vertical-align: middle;\n",
       "    }\n",
       "\n",
       "    .dataframe tbody tr th {\n",
       "        vertical-align: top;\n",
       "    }\n",
       "\n",
       "    .dataframe thead th {\n",
       "        text-align: right;\n",
       "    }\n",
       "</style>\n",
       "<table border=\"1\" class=\"dataframe\">\n",
       "  <thead>\n",
       "    <tr style=\"text-align: right;\">\n",
       "      <th></th>\n",
       "      <th>Pct_Pop_Below_Pov</th>\n",
       "      <th>Pct_Child_Below_Pov</th>\n",
       "      <th>Latitude</th>\n",
       "      <th>Longitude</th>\n",
       "      <th>CCN</th>\n",
       "    </tr>\n",
       "  </thead>\n",
       "  <tbody>\n",
       "    <tr>\n",
       "      <th>count</th>\n",
       "      <td>19615.000000</td>\n",
       "      <td>19615.000000</td>\n",
       "      <td>19615.000000</td>\n",
       "      <td>19615.000000</td>\n",
       "      <td>1.961500e+04</td>\n",
       "    </tr>\n",
       "    <tr>\n",
       "      <th>mean</th>\n",
       "      <td>20.277675</td>\n",
       "      <td>25.101593</td>\n",
       "      <td>38.905307</td>\n",
       "      <td>-76.997621</td>\n",
       "      <td>1.711939e+07</td>\n",
       "    </tr>\n",
       "    <tr>\n",
       "      <th>std</th>\n",
       "      <td>13.018253</td>\n",
       "      <td>21.236977</td>\n",
       "      <td>0.032447</td>\n",
       "      <td>0.039392</td>\n",
       "      <td>1.525146e+05</td>\n",
       "    </tr>\n",
       "    <tr>\n",
       "      <th>min</th>\n",
       "      <td>0.000000</td>\n",
       "      <td>0.000000</td>\n",
       "      <td>38.822921</td>\n",
       "      <td>-77.112316</td>\n",
       "      <td>2.111617e+06</td>\n",
       "    </tr>\n",
       "    <tr>\n",
       "      <th>25%</th>\n",
       "      <td>10.400000</td>\n",
       "      <td>1.200000</td>\n",
       "      <td>38.890132</td>\n",
       "      <td>-77.026680</td>\n",
       "      <td>1.705782e+07</td>\n",
       "    </tr>\n",
       "    <tr>\n",
       "      <th>50%</th>\n",
       "      <td>17.900000</td>\n",
       "      <td>24.500000</td>\n",
       "      <td>38.905065</td>\n",
       "      <td>-76.995573</td>\n",
       "      <td>1.711492e+07</td>\n",
       "    </tr>\n",
       "    <tr>\n",
       "      <th>75%</th>\n",
       "      <td>28.400000</td>\n",
       "      <td>44.400000</td>\n",
       "      <td>38.924454</td>\n",
       "      <td>-76.975410</td>\n",
       "      <td>1.717292e+07</td>\n",
       "    </tr>\n",
       "    <tr>\n",
       "      <th>max</th>\n",
       "      <td>100.000000</td>\n",
       "      <td>77.100000</td>\n",
       "      <td>38.977783</td>\n",
       "      <td>-76.910021</td>\n",
       "      <td>2.709178e+07</td>\n",
       "    </tr>\n",
       "  </tbody>\n",
       "</table>\n",
       "</div>"
      ],
      "text/plain": [
       "       Pct_Pop_Below_Pov  Pct_Child_Below_Pov      Latitude     Longitude  \\\n",
       "count       19615.000000         19615.000000  19615.000000  19615.000000   \n",
       "mean           20.277675            25.101593     38.905307    -76.997621   \n",
       "std            13.018253            21.236977      0.032447      0.039392   \n",
       "min             0.000000             0.000000     38.822921    -77.112316   \n",
       "25%            10.400000             1.200000     38.890132    -77.026680   \n",
       "50%            17.900000            24.500000     38.905065    -76.995573   \n",
       "75%            28.400000            44.400000     38.924454    -76.975410   \n",
       "max           100.000000            77.100000     38.977783    -76.910021   \n",
       "\n",
       "                CCN  \n",
       "count  1.961500e+04  \n",
       "mean   1.711939e+07  \n",
       "std    1.525146e+05  \n",
       "min    2.111617e+06  \n",
       "25%    1.705782e+07  \n",
       "50%    1.711492e+07  \n",
       "75%    1.717292e+07  \n",
       "max    2.709178e+07  "
      ]
     },
     "execution_count": 20,
     "metadata": {},
     "output_type": "execute_result"
    }
   ],
   "source": [
    "df_2017.describe()"
   ]
  },
  {
   "cell_type": "code",
   "execution_count": 21,
   "metadata": {},
   "outputs": [
    {
     "name": "stdout",
     "output_type": "stream",
     "text": [
      "<class 'pandas.core.frame.DataFrame'>\n",
      "RangeIndex: 19615 entries, 0 to 19614\n",
      "Data columns (total 9 columns):\n",
      " #   Column               Non-Null Count  Dtype              \n",
      "---  ------               --------------  -----              \n",
      " 0   Census_Tract         19615 non-null  object             \n",
      " 1   Pct_Pop_Below_Pov    19615 non-null  float64            \n",
      " 2   Pct_Child_Below_Pov  19615 non-null  float64            \n",
      " 3   Offense              19615 non-null  object             \n",
      " 4   Method               19615 non-null  object             \n",
      " 5   Latitude             19615 non-null  float64            \n",
      " 6   Longitude            19615 non-null  float64            \n",
      " 7   Start_Date           19615 non-null  datetime64[ns, UTC]\n",
      " 8   CCN                  19615 non-null  int64              \n",
      "dtypes: datetime64[ns, UTC](1), float64(4), int64(1), object(3)\n",
      "memory usage: 1.3+ MB\n"
     ]
    }
   ],
   "source": [
    "df_2017.info()"
   ]
  },
  {
   "cell_type": "markdown",
   "metadata": {},
   "source": [
    "# Create Google Map of Crime"
   ]
  },
  {
   "cell_type": "markdown",
   "metadata": {},
   "source": [
    "### Create Heatmap based on Crime by Census Tract\n",
    "\n",
    "- Aggregate Crime Statistics by Census Tract, Latitude & Longitude"
   ]
  },
  {
   "cell_type": "code",
   "execution_count": 22,
   "metadata": {},
   "outputs": [
    {
     "data": {
      "text/html": [
       "<div>\n",
       "<style scoped>\n",
       "    .dataframe tbody tr th:only-of-type {\n",
       "        vertical-align: middle;\n",
       "    }\n",
       "\n",
       "    .dataframe tbody tr th {\n",
       "        vertical-align: top;\n",
       "    }\n",
       "\n",
       "    .dataframe thead th {\n",
       "        text-align: right;\n",
       "    }\n",
       "</style>\n",
       "<table border=\"1\" class=\"dataframe\">\n",
       "  <thead>\n",
       "    <tr style=\"text-align: right;\">\n",
       "      <th></th>\n",
       "      <th>Census_Tract</th>\n",
       "      <th>Latitude</th>\n",
       "      <th>Longitude</th>\n",
       "      <th>CCN</th>\n",
       "    </tr>\n",
       "  </thead>\n",
       "  <tbody>\n",
       "    <tr>\n",
       "      <th>0</th>\n",
       "      <td>1001</td>\n",
       "      <td>38.941043</td>\n",
       "      <td>-77.086707</td>\n",
       "      <td>1</td>\n",
       "    </tr>\n",
       "    <tr>\n",
       "      <th>1</th>\n",
       "      <td>1001</td>\n",
       "      <td>38.941068</td>\n",
       "      <td>-77.089141</td>\n",
       "      <td>1</td>\n",
       "    </tr>\n",
       "    <tr>\n",
       "      <th>2</th>\n",
       "      <td>1001</td>\n",
       "      <td>38.942214</td>\n",
       "      <td>-77.087286</td>\n",
       "      <td>1</td>\n",
       "    </tr>\n",
       "    <tr>\n",
       "      <th>3</th>\n",
       "      <td>1001</td>\n",
       "      <td>38.942691</td>\n",
       "      <td>-77.087771</td>\n",
       "      <td>1</td>\n",
       "    </tr>\n",
       "    <tr>\n",
       "      <th>4</th>\n",
       "      <td>1001</td>\n",
       "      <td>38.943156</td>\n",
       "      <td>-77.091624</td>\n",
       "      <td>1</td>\n",
       "    </tr>\n",
       "  </tbody>\n",
       "</table>\n",
       "</div>"
      ],
      "text/plain": [
       "  Census_Tract   Latitude  Longitude  CCN\n",
       "0         1001  38.941043 -77.086707    1\n",
       "1         1001  38.941068 -77.089141    1\n",
       "2         1001  38.942214 -77.087286    1\n",
       "3         1001  38.942691 -77.087771    1\n",
       "4         1001  38.943156 -77.091624    1"
      ]
     },
     "execution_count": 22,
     "metadata": {},
     "output_type": "execute_result"
    }
   ],
   "source": [
    "maps_df = df_2017.groupby(['Census_Tract', 'Latitude', 'Longitude']).count()['CCN']\n",
    "maps_df = pd.DataFrame(maps_df)\n",
    "maps_df.reset_index(inplace=True)\n",
    "maps_df.head()"
   ]
  },
  {
   "cell_type": "code",
   "execution_count": 23,
   "metadata": {},
   "outputs": [
    {
     "data": {
      "application/vnd.jupyter.widget-view+json": {
       "model_id": "caeff4391c52418182291be3d57dcac4",
       "version_major": 2,
       "version_minor": 0
      },
      "text/plain": [
       "Figure(layout=FigureLayout(border='1px solid black', height='600px', margin='0 auto 0 auto', padding='1px', wi…"
      ]
     },
     "metadata": {},
     "output_type": "display_data"
    }
   ],
   "source": [
    "locations = maps_df[['Latitude','Longitude']]\n",
    "\n",
    "num_of_crimes = maps_df.CCN\n",
    "\n",
    "figure_layout = {\n",
    "    'width': '950px',\n",
    "    'height': '600px',\n",
    "    'border': '1px solid black',\n",
    "    'padding': '1px',\n",
    "    'margin': '0 auto 0 auto'\n",
    "}\n",
    "\n",
    "fig = gmaps.figure(map_type=\"HYBRID\", layout=figure_layout)\n",
    "heat_layer = gmaps.heatmap_layer(locations, weights=num_of_crimes, dissipating=True)\n",
    "\n",
    "fig.add_layer(heat_layer)\n",
    "fig"
   ]
  },
  {
   "cell_type": "markdown",
   "metadata": {},
   "source": [
    "# Types of Offenses"
   ]
  },
  {
   "cell_type": "markdown",
   "metadata": {},
   "source": [
    "- Here is a list of the various types of crime."
   ]
  },
  {
   "cell_type": "code",
   "execution_count": 24,
   "metadata": {},
   "outputs": [
    {
     "data": {
      "text/plain": [
       "array(['ASSAULT W/DANGEROUS WEAPON', 'THEFT/OTHER', 'THEFT F/AUTO',\n",
       "       'MOTOR VEHICLE THEFT', 'ROBBERY', 'SEX ABUSE', 'BURGLARY',\n",
       "       'HOMICIDE', 'ARSON'], dtype=object)"
      ]
     },
     "execution_count": 24,
     "metadata": {},
     "output_type": "execute_result"
    }
   ],
   "source": [
    "df_2017.Offense.unique()"
   ]
  },
  {
   "cell_type": "markdown",
   "metadata": {},
   "source": [
    "### Volume of Crime by Type"
   ]
  },
  {
   "cell_type": "code",
   "execution_count": 25,
   "metadata": {},
   "outputs": [
    {
     "data": {
      "text/html": [
       "<div>\n",
       "<style scoped>\n",
       "    .dataframe tbody tr th:only-of-type {\n",
       "        vertical-align: middle;\n",
       "    }\n",
       "\n",
       "    .dataframe tbody tr th {\n",
       "        vertical-align: top;\n",
       "    }\n",
       "\n",
       "    .dataframe thead th {\n",
       "        text-align: right;\n",
       "    }\n",
       "</style>\n",
       "<table border=\"1\" class=\"dataframe\">\n",
       "  <thead>\n",
       "    <tr style=\"text-align: right;\">\n",
       "      <th></th>\n",
       "      <th>Frequency in 2017</th>\n",
       "    </tr>\n",
       "    <tr>\n",
       "      <th>Type of Crime</th>\n",
       "      <th></th>\n",
       "    </tr>\n",
       "  </thead>\n",
       "  <tbody>\n",
       "    <tr>\n",
       "      <th>THEFT/OTHER</th>\n",
       "      <td>8170</td>\n",
       "    </tr>\n",
       "    <tr>\n",
       "      <th>THEFT F/AUTO</th>\n",
       "      <td>5538</td>\n",
       "    </tr>\n",
       "    <tr>\n",
       "      <th>MOTOR VEHICLE THEFT</th>\n",
       "      <td>1692</td>\n",
       "    </tr>\n",
       "    <tr>\n",
       "      <th>ROBBERY</th>\n",
       "      <td>1494</td>\n",
       "    </tr>\n",
       "    <tr>\n",
       "      <th>ASSAULT W/DANGEROUS WEAPON</th>\n",
       "      <td>1405</td>\n",
       "    </tr>\n",
       "    <tr>\n",
       "      <th>BURGLARY</th>\n",
       "      <td>1025</td>\n",
       "    </tr>\n",
       "    <tr>\n",
       "      <th>SEX ABUSE</th>\n",
       "      <td>194</td>\n",
       "    </tr>\n",
       "    <tr>\n",
       "      <th>HOMICIDE</th>\n",
       "      <td>94</td>\n",
       "    </tr>\n",
       "    <tr>\n",
       "      <th>ARSON</th>\n",
       "      <td>3</td>\n",
       "    </tr>\n",
       "  </tbody>\n",
       "</table>\n",
       "</div>"
      ],
      "text/plain": [
       "                            Frequency in 2017\n",
       "Type of Crime                                \n",
       "THEFT/OTHER                              8170\n",
       "THEFT F/AUTO                             5538\n",
       "MOTOR VEHICLE THEFT                      1692\n",
       "ROBBERY                                  1494\n",
       "ASSAULT W/DANGEROUS WEAPON               1405\n",
       "BURGLARY                                 1025\n",
       "SEX ABUSE                                 194\n",
       "HOMICIDE                                   94\n",
       "ARSON                                       3"
      ]
     },
     "execution_count": 25,
     "metadata": {},
     "output_type": "execute_result"
    }
   ],
   "source": [
    "offense_type = df_2017.groupby(['Offense']).count()['CCN']\n",
    "offense_type = pd.DataFrame(offense_type)\n",
    "offense_type.sort_values('CCN', ascending=False, inplace=True)\n",
    "offense_type = offense_type.rename(columns={'CCN': 'Frequency in 2017'})\n",
    "offense_type.index.names = ['Type of Crime']\n",
    "offense_type"
   ]
  },
  {
   "cell_type": "markdown",
   "metadata": {},
   "source": [
    "# Pie Chart: Types of Weapon"
   ]
  },
  {
   "cell_type": "code",
   "execution_count": 26,
   "metadata": {},
   "outputs": [
    {
     "data": {
      "image/png": "[encoded data removed]",
      "text/plain": [
       "<Figure size 576x576 with 1 Axes>"
      ]
     },
     "metadata": {},
     "output_type": "display_data"
    }
   ],
   "source": [
    "labels = ['GUN', 'KNIFE', 'OTHERS']\n",
    "sizes = df_2017.groupby(['Method'])[\"CCN\"].count()\n",
    "colors = [\"violet\", \"aqua\", \"yellowgreen\"]\n",
    "explode = (0, 0, 0.2)\n",
    "\n",
    "plt.figure(figsize=(8, 8))\n",
    "plt.title(\"Distribution of Crime by Weapon\")\n",
    "plt.pie(sizes, explode=explode, labels=labels, colors=colors,\n",
    "        autopct=\"%1.1f%%\", shadow=True, startangle=140)\n",
    "plt.axis(\"equal\")\n",
    "plt.savefig('Images/Pie_Chart_Type_of_Weapon.png')\n",
    "plt.show()"
   ]
  },
  {
   "cell_type": "markdown",
   "metadata": {},
   "source": [
    "# Histograms"
   ]
  },
  {
   "cell_type": "markdown",
   "metadata": {},
   "source": [
    "### Create Function to Plot Histogram"
   ]
  },
  {
   "cell_type": "code",
   "execution_count": 27,
   "metadata": {},
   "outputs": [],
   "source": [
    "def matplotHistogram(col, df):\n",
    "\n",
    "    #Plot Bar Chart\n",
    "    plt.figure(figsize=(8, 8))\n",
    "    plt.hist(df[col], 100, color='indigo', alpha=0.75)\n",
    "    #plt.xticks(rotation=90)\n",
    "    plt.title(f\"Washington Crime Statistics 2017 by {col}\", fontsize=16, fontweight=\"bold\")\n",
    "    plt.xlabel(f\"{col}\")\n",
    "    plt.ylabel(\"Frequency of Offences\")\n",
    "    axes = plt.gca()\n",
    "    axes.yaxis.grid()\n",
    "    plt.savefig(f'Images/Histogram_{col}.png')\n",
    "    plt.show()"
   ]
  },
  {
   "cell_type": "code",
   "execution_count": 28,
   "metadata": {},
   "outputs": [
    {
     "data": {
      "image/png": "[encoded data removed]",
      "text/plain": [
       "<Figure size 576x576 with 1 Axes>"
      ]
     },
     "metadata": {
      "needs_background": "light"
     },
     "output_type": "display_data"
    }
   ],
   "source": [
    "matplotHistogram('Census_Tract', df_2017)"
   ]
  },
  {
   "cell_type": "code",
   "execution_count": 29,
   "metadata": {},
   "outputs": [
    {
     "data": {
      "image/png": "[encoded data removed]",
      "text/plain": [
       "<Figure size 576x576 with 1 Axes>"
      ]
     },
     "metadata": {
      "needs_background": "light"
     },
     "output_type": "display_data"
    }
   ],
   "source": [
    "matplotHistogram('Method', df_2017)"
   ]
  },
  {
   "cell_type": "code",
   "execution_count": 30,
   "metadata": {},
   "outputs": [
    {
     "data": {
      "text/plain": [
       "Index(['Census_Tract', 'Pct_Pop_Below_Pov', 'Pct_Child_Below_Pov', 'Offense',\n",
       "       'Method', 'Latitude', 'Longitude', 'Start_Date', 'CCN'],\n",
       "      dtype='object')"
      ]
     },
     "execution_count": 30,
     "metadata": {},
     "output_type": "execute_result"
    }
   ],
   "source": [
    "df_2017.columns"
   ]
  },
  {
   "cell_type": "markdown",
   "metadata": {},
   "source": [
    "### Create Histograms for Each Column"
   ]
  },
  {
   "cell_type": "code",
   "execution_count": 31,
   "metadata": {},
   "outputs": [],
   "source": [
    "cols = ['Report', 'Shift', 'Method', 'Offense', 'Block', 'XBlock',\n",
    "       'YBlock', 'Ward', 'ANC', 'District', 'PSA', 'Neighborhood',\n",
    "       'Block_Grou', 'Census_Trac', 'Voting_Precinct', 'Latitude', \n",
    "        'Longitude', 'Object_ID', 'Octo_Recor']"
   ]
  },
  {
   "cell_type": "markdown",
   "metadata": {},
   "source": [
    "- Graphs indicate that none of these variable demonstrate a normal distribution "
   ]
  },
  {
   "cell_type": "code",
   "execution_count": 32,
   "metadata": {
    "scrolled": false
   },
   "outputs": [],
   "source": [
    "#for col in cols:\n",
    "#    matplotHistogram(col,renamed_df)"
   ]
  },
  {
   "cell_type": "markdown",
   "metadata": {},
   "source": [
    "# Bar Charts"
   ]
  },
  {
   "cell_type": "markdown",
   "metadata": {},
   "source": [
    "### Create Function to Plot Bar Chart"
   ]
  },
  {
   "cell_type": "code",
   "execution_count": 33,
   "metadata": {},
   "outputs": [],
   "source": [
    "def matplotBarChart(col, df):\n",
    "    #Groupby operation on Target Column\n",
    "    #Assign to temporarily DataFrame\n",
    "    #Sort & capture top 10\n",
    "    sub_df = df.groupby([col]).count()['CCN']\n",
    "    sub_df = pd.DataFrame(sub_df)\n",
    "    sub_df.sort_values('CCN', ascending=False, inplace=True)\n",
    "    sub_df = sub_df.head(10)\n",
    "\n",
    "    #Plot Bar Chart\n",
    "    plt.figure(figsize=(8, 8))\n",
    "    plt.bar(sub_df.index, sub_df['CCN'], color='indigo', align=\"center\")\n",
    "    plt.xticks(rotation=90)\n",
    "    plt.title(f\"Washington Crime Statistics 2017 by {col}\", fontsize=16, fontweight=\"bold\")\n",
    "    plt.xlabel(f\"{col}\")\n",
    "    plt.ylabel(\"Number of Offences\")\n",
    "    axes = plt.gca()\n",
    "    axes.yaxis.grid()\n",
    "    plt.savefig(f'Images/Bar_Chart_{col}.png')\n",
    "    plt.show"
   ]
  },
  {
   "cell_type": "markdown",
   "metadata": {},
   "source": [
    "### Crime by Type of Offense"
   ]
  },
  {
   "cell_type": "code",
   "execution_count": 34,
   "metadata": {},
   "outputs": [
    {
     "data": {
      "image/png": "[encoded data removed]",
      "text/plain": [
       "<Figure size 576x576 with 1 Axes>"
      ]
     },
     "metadata": {
      "needs_background": "light"
     },
     "output_type": "display_data"
    }
   ],
   "source": [
    "matplotBarChart('Offense', df_2017)"
   ]
  },
  {
   "cell_type": "markdown",
   "metadata": {},
   "source": [
    "### Crime by Census Tract"
   ]
  },
  {
   "cell_type": "code",
   "execution_count": 35,
   "metadata": {},
   "outputs": [
    {
     "data": {
      "image/png": "[encoded data removed]",
      "text/plain": [
       "<Figure size 576x576 with 1 Axes>"
      ]
     },
     "metadata": {
      "needs_background": "light"
     },
     "output_type": "display_data"
    }
   ],
   "source": [
    "matplotBarChart('Census_Tract', df_2017)"
   ]
  },
  {
   "cell_type": "markdown",
   "metadata": {},
   "source": [
    "# Crime by Weapon"
   ]
  },
  {
   "cell_type": "code",
   "execution_count": 36,
   "metadata": {},
   "outputs": [
    {
     "data": {
      "image/png": "[encoded data removed]",
      "text/plain": [
       "<Figure size 576x576 with 1 Axes>"
      ]
     },
     "metadata": {
      "needs_background": "light"
     },
     "output_type": "display_data"
    }
   ],
   "source": [
    "matplotBarChart('Method', df_2017)"
   ]
  },
  {
   "cell_type": "markdown",
   "metadata": {},
   "source": [
    "# Correlation"
   ]
  },
  {
   "cell_type": "markdown",
   "metadata": {},
   "source": [
    "Many of the fields in this dataset were related to location (e.g. XBlock, Ward,Census Tract, Voting Precinct, Latitude, Longitude).\n",
    "Consequently, it was difficult to find meaningful correlations."
   ]
  },
  {
   "cell_type": "code",
   "execution_count": 37,
   "metadata": {},
   "outputs": [
    {
     "data": {
      "text/html": [
       "<div>\n",
       "<style scoped>\n",
       "    .dataframe tbody tr th:only-of-type {\n",
       "        vertical-align: middle;\n",
       "    }\n",
       "\n",
       "    .dataframe tbody tr th {\n",
       "        vertical-align: top;\n",
       "    }\n",
       "\n",
       "    .dataframe thead th {\n",
       "        text-align: right;\n",
       "    }\n",
       "</style>\n",
       "<table border=\"1\" class=\"dataframe\">\n",
       "  <thead>\n",
       "    <tr style=\"text-align: right;\">\n",
       "      <th></th>\n",
       "      <th>Pct_Pop_Below_Pov</th>\n",
       "      <th>Pct_Child_Below_Pov</th>\n",
       "      <th>Latitude</th>\n",
       "      <th>Longitude</th>\n",
       "      <th>CCN</th>\n",
       "    </tr>\n",
       "  </thead>\n",
       "  <tbody>\n",
       "    <tr>\n",
       "      <th>Pct_Pop_Below_Pov</th>\n",
       "      <td>1.000000</td>\n",
       "      <td>0.862961</td>\n",
       "      <td>-0.537340</td>\n",
       "      <td>0.419328</td>\n",
       "      <td>-0.018416</td>\n",
       "    </tr>\n",
       "    <tr>\n",
       "      <th>Pct_Child_Below_Pov</th>\n",
       "      <td>0.862961</td>\n",
       "      <td>1.000000</td>\n",
       "      <td>-0.522453</td>\n",
       "      <td>0.500101</td>\n",
       "      <td>-0.027470</td>\n",
       "    </tr>\n",
       "    <tr>\n",
       "      <th>Latitude</th>\n",
       "      <td>-0.537340</td>\n",
       "      <td>-0.522453</td>\n",
       "      <td>1.000000</td>\n",
       "      <td>-0.479755</td>\n",
       "      <td>0.019087</td>\n",
       "    </tr>\n",
       "    <tr>\n",
       "      <th>Longitude</th>\n",
       "      <td>0.419328</td>\n",
       "      <td>0.500101</td>\n",
       "      <td>-0.479755</td>\n",
       "      <td>1.000000</td>\n",
       "      <td>-0.027438</td>\n",
       "    </tr>\n",
       "    <tr>\n",
       "      <th>CCN</th>\n",
       "      <td>-0.018416</td>\n",
       "      <td>-0.027470</td>\n",
       "      <td>0.019087</td>\n",
       "      <td>-0.027438</td>\n",
       "      <td>1.000000</td>\n",
       "    </tr>\n",
       "  </tbody>\n",
       "</table>\n",
       "</div>"
      ],
      "text/plain": [
       "                     Pct_Pop_Below_Pov  Pct_Child_Below_Pov  Latitude  \\\n",
       "Pct_Pop_Below_Pov             1.000000             0.862961 -0.537340   \n",
       "Pct_Child_Below_Pov           0.862961             1.000000 -0.522453   \n",
       "Latitude                     -0.537340            -0.522453  1.000000   \n",
       "Longitude                     0.419328             0.500101 -0.479755   \n",
       "CCN                          -0.018416            -0.027470  0.019087   \n",
       "\n",
       "                     Longitude       CCN  \n",
       "Pct_Pop_Below_Pov     0.419328 -0.018416  \n",
       "Pct_Child_Below_Pov   0.500101 -0.027470  \n",
       "Latitude             -0.479755  0.019087  \n",
       "Longitude             1.000000 -0.027438  \n",
       "CCN                  -0.027438  1.000000  "
      ]
     },
     "execution_count": 37,
     "metadata": {},
     "output_type": "execute_result"
    }
   ],
   "source": [
    "df_2017.corr()"
   ]
  },
  {
   "cell_type": "markdown",
   "metadata": {},
   "source": [
    "### Heatmap to Illustrate Correlation"
   ]
  },
  {
   "cell_type": "code",
   "execution_count": 38,
   "metadata": {},
   "outputs": [
    {
     "data": {
      "image/png": "[encoded data removed]",
      "text/plain": [
       "<Figure size 720x576 with 2 Axes>"
      ]
     },
     "metadata": {
      "needs_background": "light"
     },
     "output_type": "display_data"
    }
   ],
   "source": [
    "plt.figure(figsize=(10, 8))\n",
    "sn.heatmap(df_2017.corr())\n",
    "plt.savefig('Images/Correlation_HeatMap.png')\n",
    "plt.show()"
   ]
  },
  {
   "cell_type": "markdown",
   "metadata": {},
   "source": [
    "# Scatter Plots"
   ]
  },
  {
   "cell_type": "markdown",
   "metadata": {},
   "source": [
    "As discussed above, scatter plots do not illustrate any meaning correlations"
   ]
  },
  {
   "cell_type": "markdown",
   "metadata": {},
   "source": [
    "### Function to Create Scatter Plot"
   ]
  },
  {
   "cell_type": "code",
   "execution_count": 39,
   "metadata": {},
   "outputs": [],
   "source": [
    "def makeScatter(col1, col2, df):  \n",
    "    plt.figure(figsize=(8, 8))\n",
    "    plt.scatter(df[col1], df[col2], c=\"blueviolet\", edgecolors=\"black\", alpha=0.35)\n",
    "    plt.title(f\"{col1.title()} vs {col2.title()}\")\n",
    "    plt.xlabel(f\"{col1.title()}\")\n",
    "    plt.ylabel(f\"{col2.title()}\")\n",
    "    plt.tight_layout\n",
    "    plt.show()"
   ]
  },
  {
   "cell_type": "markdown",
   "metadata": {},
   "source": [
    "### Create List of Variables for Scatter Plots"
   ]
  },
  {
   "cell_type": "code",
   "execution_count": 40,
   "metadata": {},
   "outputs": [],
   "source": [
    "cols = ['CCN', 'XBlock', 'YBlock', 'Ward', 'District', 'PSA', 'Census_Trac',\n",
    "       'Latitude', 'Longitude', 'Object_ID']"
   ]
  },
  {
   "cell_type": "markdown",
   "metadata": {},
   "source": [
    "### Create Scatter Plots for Census Trac"
   ]
  },
  {
   "cell_type": "code",
   "execution_count": 41,
   "metadata": {
    "scrolled": true
   },
   "outputs": [
    {
     "ename": "NameError",
     "evalue": "name 'renamed_df' is not defined",
     "output_type": "error",
     "traceback": [
      "\u001b[0;31m---------------------------------------------------------------------------\u001b[0m",
      "\u001b[0;31mNameError\u001b[0m                                 Traceback (most recent call last)",
      "\u001b[0;32m<ipython-input-41-cf47da0d0db1>\u001b[0m in \u001b[0;36m<module>\u001b[0;34m\u001b[0m\n\u001b[1;32m      1\u001b[0m \u001b[0;32mfor\u001b[0m \u001b[0mcol\u001b[0m \u001b[0;32min\u001b[0m \u001b[0mcols\u001b[0m\u001b[0;34m:\u001b[0m\u001b[0;34m\u001b[0m\u001b[0;34m\u001b[0m\u001b[0m\n\u001b[0;32m----> 2\u001b[0;31m     \u001b[0mmakeScatter\u001b[0m\u001b[0;34m(\u001b[0m\u001b[0;34m\"Census_Trac\"\u001b[0m\u001b[0;34m,\u001b[0m \u001b[0mcol\u001b[0m\u001b[0;34m,\u001b[0m \u001b[0mrenamed_df\u001b[0m\u001b[0;34m)\u001b[0m\u001b[0;34m\u001b[0m\u001b[0;34m\u001b[0m\u001b[0m\n\u001b[0m",
      "\u001b[0;31mNameError\u001b[0m: name 'renamed_df' is not defined"
     ]
    }
   ],
   "source": [
    "for col in cols:\n",
    "    makeScatter(\"Census_Trac\", col, renamed_df)"
   ]
  },
  {
   "cell_type": "markdown",
   "metadata": {},
   "source": [
    "# Chisquared Analysis"
   ]
  },
  {
   "cell_type": "code",
   "execution_count": null,
   "metadata": {},
   "outputs": [],
   "source": [
    "rr_df = df_2017.groupby(df_2017.Census_Tract).count()['CCN']\n",
    "rr_df\n",
    "\n",
    "sub_df = pd.DataFrame(rr_df)\n",
    "sub_df.sort_values('CCN', ascending=False, inplace=True)\n",
    "sub_df = sub_df.head(10)\n",
    "sub_df"
   ]
  },
  {
   "cell_type": "code",
   "execution_count": null,
   "metadata": {},
   "outputs": [],
   "source": [
    "(sub_df['CCN'].sum())/10"
   ]
  },
  {
   "cell_type": "code",
   "execution_count": null,
   "metadata": {},
   "outputs": [],
   "source": [
    "sub_df[\"Expected\"]=643.2"
   ]
  },
  {
   "cell_type": "code",
   "execution_count": null,
   "metadata": {},
   "outputs": [],
   "source": [
    "chisquare(sub_df['CCN'],sub_df['Expected'])"
   ]
  },
  {
   "cell_type": "code",
   "execution_count": null,
   "metadata": {},
   "outputs": [],
   "source": [
    "new_list =[1000, 850, 650, 630, 630, 600, 550, 500, 450, 450]\n",
    "sub_df['Expected']= new_list\n",
    "sub_df"
   ]
  },
  {
   "cell_type": "code",
   "execution_count": null,
   "metadata": {},
   "outputs": [],
   "source": [
    "chisquare(sub_df['CCN'],sub_df['Expected'])"
   ]
  }
 ],
 "metadata": {
  "kernelspec": {
   "display_name": "Python 3",
   "language": "python",
   "name": "python3"
  },
  "language_info": {
   "codemirror_mode": {
    "name": "ipython",
    "version": 3
   },
   "file_extension": ".py",
   "mimetype": "text/x-python",
   "name": "python",
   "nbconvert_exporter": "python",
   "pygments_lexer": "ipython3",
   "version": "3.7.6"
  }
 },
 "nbformat": 4,
 "nbformat_minor": 4
}
