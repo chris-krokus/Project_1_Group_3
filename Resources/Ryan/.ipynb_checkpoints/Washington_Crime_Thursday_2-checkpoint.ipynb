{
 "cells": [
  {
   "cell_type": "markdown",
   "metadata": {},
   "source": [
    "# Import Dependencies"
   ]
  },
  {
   "cell_type": "code",
   "execution_count": 1,
   "metadata": {},
   "outputs": [],
   "source": [
    "import matplotlib.pyplot as plt\n",
    "import pandas as pd\n",
    "import scipy.stats as st\n",
    "import numpy as np\n",
    "import statsmodels.api as sm\n",
    "import seaborn as sn\n",
    "import gmaps\n",
    "import json\n",
    "from scipy.stats import sem,chisquare\n",
    "from scipy.stats import linregress\n",
    "from api_keys import g_key"
   ]
  },
  {
   "cell_type": "markdown",
   "metadata": {},
   "source": [
    "# Import Google Maps API Key"
   ]
  },
  {
   "cell_type": "code",
   "execution_count": 2,
   "metadata": {},
   "outputs": [],
   "source": [
    "gmaps.configure(api_key=g_key)"
   ]
  },
  {
   "cell_type": "markdown",
   "metadata": {},
   "source": [
    "# Import Crime Data"
   ]
  },
  {
   "cell_type": "code",
   "execution_count": 3,
   "metadata": {},
   "outputs": [
    {
     "data": {
      "text/html": [
       "<div>\n",
       "<style scoped>\n",
       "    .dataframe tbody tr th:only-of-type {\n",
       "        vertical-align: middle;\n",
       "    }\n",
       "\n",
       "    .dataframe tbody tr th {\n",
       "        vertical-align: top;\n",
       "    }\n",
       "\n",
       "    .dataframe thead th {\n",
       "        text-align: right;\n",
       "    }\n",
       "</style>\n",
       "<table border=\"1\" class=\"dataframe\">\n",
       "  <thead>\n",
       "    <tr style=\"text-align: right;\">\n",
       "      <th></th>\n",
       "      <th>CCN,C,80</th>\n",
       "      <th>REPORT_DAT,C,80</th>\n",
       "      <th>SHIFT,C,80</th>\n",
       "      <th>METHOD,C,80</th>\n",
       "      <th>OFFENSE,C,80</th>\n",
       "      <th>BLOCK,C,80</th>\n",
       "      <th>XBLOCK,N,10,0</th>\n",
       "      <th>YBLOCK,N,10,0</th>\n",
       "      <th>WARD,C,80</th>\n",
       "      <th>ANC,C,80</th>\n",
       "      <th>...</th>\n",
       "      <th>BLOCK_GROU,C,80</th>\n",
       "      <th>CENSUS_TRA,C,80</th>\n",
       "      <th>VOTING_PRE,C,80</th>\n",
       "      <th>LATITUDE,N,24,15</th>\n",
       "      <th>LONGITUDE,N,24,15</th>\n",
       "      <th>BID,C,80</th>\n",
       "      <th>START_DATE,C,80</th>\n",
       "      <th>END_DATE,C,80</th>\n",
       "      <th>OBJECTID,N,10,0</th>\n",
       "      <th>OCTO_RECOR,C,80</th>\n",
       "    </tr>\n",
       "  </thead>\n",
       "  <tbody>\n",
       "    <tr>\n",
       "      <th>0</th>\n",
       "      <td>2111617</td>\n",
       "      <td>2017-02-06T20:11:14.000Z</td>\n",
       "      <td>EVENING</td>\n",
       "      <td>OTHERS</td>\n",
       "      <td>THEFT/OTHER</td>\n",
       "      <td>600 - 669 BLOCK OF MARYLAND AVENUE NE</td>\n",
       "      <td>400212</td>\n",
       "      <td>136281</td>\n",
       "      <td>6</td>\n",
       "      <td>6C</td>\n",
       "      <td>...</td>\n",
       "      <td>008302 1</td>\n",
       "      <td>8302.0</td>\n",
       "      <td>Precinct 84</td>\n",
       "      <td>38.894376</td>\n",
       "      <td>-76.997556</td>\n",
       "      <td>CAPITOL HILL</td>\n",
       "      <td>2017-02-01T11:55:55.000Z</td>\n",
       "      <td>NaN</td>\n",
       "      <td>306952475</td>\n",
       "      <td>02111617-01</td>\n",
       "    </tr>\n",
       "    <tr>\n",
       "      <th>1</th>\n",
       "      <td>7093973</td>\n",
       "      <td>2017-06-03T12:54:27.000Z</td>\n",
       "      <td>DAY</td>\n",
       "      <td>OTHERS</td>\n",
       "      <td>THEFT F/AUTO</td>\n",
       "      <td>2900 - 2999 BLOCK OF N STREET NW</td>\n",
       "      <td>394912</td>\n",
       "      <td>137666</td>\n",
       "      <td>2</td>\n",
       "      <td>2E</td>\n",
       "      <td>...</td>\n",
       "      <td>000100 4</td>\n",
       "      <td>100.0</td>\n",
       "      <td>Precinct 5</td>\n",
       "      <td>38.906838</td>\n",
       "      <td>-77.058661</td>\n",
       "      <td>NaN</td>\n",
       "      <td>2017-06-03T11:54:03.000Z</td>\n",
       "      <td>2017-06-03T11:55:05.000Z</td>\n",
       "      <td>306952489</td>\n",
       "      <td>07093973-01</td>\n",
       "    </tr>\n",
       "    <tr>\n",
       "      <th>2</th>\n",
       "      <td>17400847</td>\n",
       "      <td>2017-05-25T13:07:34.000Z</td>\n",
       "      <td>DAY</td>\n",
       "      <td>OTHERS</td>\n",
       "      <td>THEFT F/AUTO</td>\n",
       "      <td>4500 - 4599 BLOCK OF BRANDYWINE STREET NW</td>\n",
       "      <td>392231</td>\n",
       "      <td>142425</td>\n",
       "      <td>3</td>\n",
       "      <td>3E</td>\n",
       "      <td>...</td>\n",
       "      <td>001001 3</td>\n",
       "      <td>1001.0</td>\n",
       "      <td>Precinct 31</td>\n",
       "      <td>38.949689</td>\n",
       "      <td>-77.089625</td>\n",
       "      <td>NaN</td>\n",
       "      <td>2017-05-12T23:00:00.000Z</td>\n",
       "      <td>2017-05-13T09:00:00.000Z</td>\n",
       "      <td>306951085</td>\n",
       "      <td>17400847-01</td>\n",
       "    </tr>\n",
       "  </tbody>\n",
       "</table>\n",
       "<p>3 rows × 23 columns</p>\n",
       "</div>"
      ],
      "text/plain": [
       "   CCN,C,80           REPORT_DAT,C,80 SHIFT,C,80 METHOD,C,80  OFFENSE,C,80  \\\n",
       "0   2111617  2017-02-06T20:11:14.000Z    EVENING      OTHERS   THEFT/OTHER   \n",
       "1   7093973  2017-06-03T12:54:27.000Z        DAY      OTHERS  THEFT F/AUTO   \n",
       "2  17400847  2017-05-25T13:07:34.000Z        DAY      OTHERS  THEFT F/AUTO   \n",
       "\n",
       "                                  BLOCK,C,80  XBLOCK,N,10,0  YBLOCK,N,10,0  \\\n",
       "0      600 - 669 BLOCK OF MARYLAND AVENUE NE         400212         136281   \n",
       "1           2900 - 2999 BLOCK OF N STREET NW         394912         137666   \n",
       "2  4500 - 4599 BLOCK OF BRANDYWINE STREET NW         392231         142425   \n",
       "\n",
       "   WARD,C,80 ANC,C,80  ...  BLOCK_GROU,C,80  CENSUS_TRA,C,80 VOTING_PRE,C,80  \\\n",
       "0          6       6C  ...         008302 1           8302.0     Precinct 84   \n",
       "1          2       2E  ...         000100 4            100.0      Precinct 5   \n",
       "2          3       3E  ...         001001 3           1001.0     Precinct 31   \n",
       "\n",
       "  LATITUDE,N,24,15  LONGITUDE,N,24,15      BID,C,80           START_DATE,C,80  \\\n",
       "0        38.894376         -76.997556  CAPITOL HILL  2017-02-01T11:55:55.000Z   \n",
       "1        38.906838         -77.058661           NaN  2017-06-03T11:54:03.000Z   \n",
       "2        38.949689         -77.089625           NaN  2017-05-12T23:00:00.000Z   \n",
       "\n",
       "              END_DATE,C,80 OBJECTID,N,10,0 OCTO_RECOR,C,80  \n",
       "0                       NaN       306952475     02111617-01  \n",
       "1  2017-06-03T11:55:05.000Z       306952489     07093973-01  \n",
       "2  2017-05-13T09:00:00.000Z       306951085     17400847-01  \n",
       "\n",
       "[3 rows x 23 columns]"
      ]
     },
     "execution_count": 3,
     "metadata": {},
     "output_type": "execute_result"
    }
   ],
   "source": [
    "filepath = \"../AnyConv.com__Crime_Incidents_in_2017.csv\"\n",
    "df = pd.read_csv(filepath, low_memory=False)\n",
    "\n",
    "df.head(3)"
   ]
  },
  {
   "cell_type": "markdown",
   "metadata": {},
   "source": [
    "# Rename Columns\n",
    "\n",
    "- remove punctuation from column names\n",
    "- create more user-friendly names"
   ]
  },
  {
   "cell_type": "code",
   "execution_count": 4,
   "metadata": {},
   "outputs": [
    {
     "data": {
      "text/plain": [
       "Index(['CCN,C,80', 'REPORT_DAT,C,80', 'SHIFT,C,80', 'METHOD,C,80',\n",
       "       'OFFENSE,C,80', 'BLOCK,C,80', 'XBLOCK,N,10,0', 'YBLOCK,N,10,0',\n",
       "       'WARD,C,80', 'ANC,C,80', 'DISTRICT,C,80', 'PSA,C,80', 'NEIGHBORHO,C,80',\n",
       "       'BLOCK_GROU,C,80', 'CENSUS_TRA,C,80', 'VOTING_PRE,C,80',\n",
       "       'LATITUDE,N,24,15', 'LONGITUDE,N,24,15', 'BID,C,80', 'START_DATE,C,80',\n",
       "       'END_DATE,C,80', 'OBJECTID,N,10,0', 'OCTO_RECOR,C,80'],\n",
       "      dtype='object')"
      ]
     },
     "execution_count": 4,
     "metadata": {},
     "output_type": "execute_result"
    }
   ],
   "source": [
    "df.columns"
   ]
  },
  {
   "cell_type": "code",
   "execution_count": 5,
   "metadata": {},
   "outputs": [
    {
     "data": {
      "text/plain": [
       "Index(['CCN', 'Report', 'Shift', 'Method', 'Offense', 'Block', 'XBlock',\n",
       "       'YBlock', 'Ward', 'ANC', 'District', 'PSA', 'Neighborhood',\n",
       "       'Block_Grou', 'Census_Trac', 'Voting_Precinct', 'Latitude', 'Longitude',\n",
       "       'Bid', 'Start_Date', 'End_Date', 'Object_ID', 'Octo_Recor'],\n",
       "      dtype='object')"
      ]
     },
     "execution_count": 5,
     "metadata": {},
     "output_type": "execute_result"
    }
   ],
   "source": [
    "renamed_df = df.rename(columns={'CCN,C,80':'CCN', 'REPORT_DAT,C,80':'Report', 'SHIFT,C,80':'Shift', \n",
    "                                'METHOD,C,80':'Method', 'OFFENSE,C,80':'Offense', 'BLOCK,C,80':'Block',\n",
    "                                'XBLOCK,N,10,0':'XBlock', 'YBLOCK,N,10,0':'YBlock','WARD,C,80':'Ward',\n",
    "                                'ANC,C,80':'ANC', 'DISTRICT,C,80':'District', 'PSA,C,80':'PSA', \n",
    "                                'NEIGHBORHO,C,80':'Neighborhood','BLOCK_GROU,C,80':'Block_Grou', \n",
    "                                'CENSUS_TRA,C,80':'Census_Trac', 'VOTING_PRE,C,80':'Voting_Precinct',\n",
    "                                'LATITUDE,N,24,15':'Latitude', 'LONGITUDE,N,24,15':'Longitude', \n",
    "                                'BID,C,80':'Bid', 'START_DATE,C,80':'Start_Date','END_DATE,C,80':'End_Date',\n",
    "                                'OBJECTID,N,10,0':'Object_ID', 'OCTO_RECOR,C,80':'Octo_Recor' })\n",
    "renamed_df.columns"
   ]
  },
  {
   "cell_type": "markdown",
   "metadata": {},
   "source": [
    "# Find Null Values"
   ]
  },
  {
   "cell_type": "markdown",
   "metadata": {},
   "source": [
    "### Identify Columns with NaN"
   ]
  },
  {
   "cell_type": "code",
   "execution_count": 6,
   "metadata": {},
   "outputs": [
    {
     "data": {
      "text/plain": [
       "CCN                    0\n",
       "Report                 0\n",
       "Shift                  0\n",
       "Method                 0\n",
       "Offense                0\n",
       "Block                  0\n",
       "XBlock                 0\n",
       "YBlock                 0\n",
       "Ward                   0\n",
       "ANC                    0\n",
       "District               3\n",
       "PSA                    3\n",
       "Neighborhood         370\n",
       "Block_Grou            84\n",
       "Census_Trac           84\n",
       "Voting_Precinct        0\n",
       "Latitude               0\n",
       "Longitude              0\n",
       "Bid                27252\n",
       "Start_Date             0\n",
       "End_Date            1497\n",
       "Object_ID              0\n",
       "Octo_Recor             0\n",
       "dtype: int64"
      ]
     },
     "execution_count": 6,
     "metadata": {},
     "output_type": "execute_result"
    }
   ],
   "source": [
    "count_nan_in_df = renamed_df.isnull().sum()\n",
    "#print (count_nan_in_df)\n",
    "count_nan_in_df"
   ]
  },
  {
   "cell_type": "markdown",
   "metadata": {},
   "source": [
    "### Dropped Bid column\n",
    "\n",
    "- was not being used"
   ]
  },
  {
   "cell_type": "code",
   "execution_count": 7,
   "metadata": {},
   "outputs": [],
   "source": [
    "renamed_df.drop('Bid', axis=1, inplace=True)"
   ]
  },
  {
   "cell_type": "markdown",
   "metadata": {},
   "source": [
    "### PSA column: Isolate Rows with NULL value"
   ]
  },
  {
   "cell_type": "code",
   "execution_count": 8,
   "metadata": {},
   "outputs": [
    {
     "data": {
      "text/html": [
       "<div>\n",
       "<style scoped>\n",
       "    .dataframe tbody tr th:only-of-type {\n",
       "        vertical-align: middle;\n",
       "    }\n",
       "\n",
       "    .dataframe tbody tr th {\n",
       "        vertical-align: top;\n",
       "    }\n",
       "\n",
       "    .dataframe thead th {\n",
       "        text-align: right;\n",
       "    }\n",
       "</style>\n",
       "<table border=\"1\" class=\"dataframe\">\n",
       "  <thead>\n",
       "    <tr style=\"text-align: right;\">\n",
       "      <th></th>\n",
       "      <th>CCN</th>\n",
       "      <th>Report</th>\n",
       "      <th>Shift</th>\n",
       "      <th>Method</th>\n",
       "      <th>Offense</th>\n",
       "      <th>Block</th>\n",
       "      <th>XBlock</th>\n",
       "      <th>YBlock</th>\n",
       "      <th>Ward</th>\n",
       "      <th>ANC</th>\n",
       "      <th>...</th>\n",
       "      <th>Neighborhood</th>\n",
       "      <th>Block_Grou</th>\n",
       "      <th>Census_Trac</th>\n",
       "      <th>Voting_Precinct</th>\n",
       "      <th>Latitude</th>\n",
       "      <th>Longitude</th>\n",
       "      <th>Start_Date</th>\n",
       "      <th>End_Date</th>\n",
       "      <th>Object_ID</th>\n",
       "      <th>Octo_Recor</th>\n",
       "    </tr>\n",
       "  </thead>\n",
       "  <tbody>\n",
       "    <tr>\n",
       "      <th>184</th>\n",
       "      <td>17401844</td>\n",
       "      <td>2017-11-01T18:06:16.000Z</td>\n",
       "      <td>EVENING</td>\n",
       "      <td>OTHERS</td>\n",
       "      <td>THEFT F/AUTO</td>\n",
       "      <td>1700 - 1717 BLOCK OF CONSTITUTION AVENUE NE</td>\n",
       "      <td>401707</td>\n",
       "      <td>136018</td>\n",
       "      <td>6</td>\n",
       "      <td>6A</td>\n",
       "      <td>...</td>\n",
       "      <td>Cluster 26</td>\n",
       "      <td>008002 1</td>\n",
       "      <td>8002.0</td>\n",
       "      <td>Precinct 86</td>\n",
       "      <td>38.892005</td>\n",
       "      <td>-76.980324</td>\n",
       "      <td>2017-11-01T16:00:00.000Z</td>\n",
       "      <td>2017-11-01T16:05:00.000Z</td>\n",
       "      <td>306951319</td>\n",
       "      <td>17401844-01</td>\n",
       "    </tr>\n",
       "    <tr>\n",
       "      <th>185</th>\n",
       "      <td>17401847</td>\n",
       "      <td>2017-11-14T10:46:23.000Z</td>\n",
       "      <td>DAY</td>\n",
       "      <td>OTHERS</td>\n",
       "      <td>THEFT/OTHER</td>\n",
       "      <td>2400 - 2499 BLOCK OF M STREET NW</td>\n",
       "      <td>395459</td>\n",
       "      <td>137490</td>\n",
       "      <td>2</td>\n",
       "      <td>2A</td>\n",
       "      <td>...</td>\n",
       "      <td>Cluster 5</td>\n",
       "      <td>005500 2</td>\n",
       "      <td>5500.0</td>\n",
       "      <td>Precinct 4</td>\n",
       "      <td>38.905255</td>\n",
       "      <td>-77.052353</td>\n",
       "      <td>2017-10-29T10:30:00.000Z</td>\n",
       "      <td>2017-11-11T18:30:00.000Z</td>\n",
       "      <td>306951320</td>\n",
       "      <td>17401847-01</td>\n",
       "    </tr>\n",
       "    <tr>\n",
       "      <th>186</th>\n",
       "      <td>17401849</td>\n",
       "      <td>2017-11-04T08:06:19.000Z</td>\n",
       "      <td>DAY</td>\n",
       "      <td>OTHERS</td>\n",
       "      <td>THEFT/OTHER</td>\n",
       "      <td>1600 - 1699 BLOCK OF P STREET NW</td>\n",
       "      <td>396746</td>\n",
       "      <td>137976</td>\n",
       "      <td>2</td>\n",
       "      <td>2B</td>\n",
       "      <td>...</td>\n",
       "      <td>Cluster 6</td>\n",
       "      <td>005301 3</td>\n",
       "      <td>5301.0</td>\n",
       "      <td>Precinct 15</td>\n",
       "      <td>38.909639</td>\n",
       "      <td>-77.037518</td>\n",
       "      <td>2017-11-01T08:00:00.000Z</td>\n",
       "      <td>2017-11-02T17:00:00.000Z</td>\n",
       "      <td>306951321</td>\n",
       "      <td>17401849-01</td>\n",
       "    </tr>\n",
       "  </tbody>\n",
       "</table>\n",
       "<p>3 rows × 22 columns</p>\n",
       "</div>"
      ],
      "text/plain": [
       "          CCN                    Report    Shift  Method       Offense  \\\n",
       "184  17401844  2017-11-01T18:06:16.000Z  EVENING  OTHERS  THEFT F/AUTO   \n",
       "185  17401847  2017-11-14T10:46:23.000Z      DAY  OTHERS   THEFT/OTHER   \n",
       "186  17401849  2017-11-04T08:06:19.000Z      DAY  OTHERS   THEFT/OTHER   \n",
       "\n",
       "                                           Block  XBlock  YBlock  Ward ANC  \\\n",
       "184  1700 - 1717 BLOCK OF CONSTITUTION AVENUE NE  401707  136018     6  6A   \n",
       "185             2400 - 2499 BLOCK OF M STREET NW  395459  137490     2  2A   \n",
       "186             1600 - 1699 BLOCK OF P STREET NW  396746  137976     2  2B   \n",
       "\n",
       "     ...  Neighborhood  Block_Grou Census_Trac Voting_Precinct   Latitude  \\\n",
       "184  ...    Cluster 26    008002 1      8002.0     Precinct 86  38.892005   \n",
       "185  ...     Cluster 5    005500 2      5500.0      Precinct 4  38.905255   \n",
       "186  ...     Cluster 6    005301 3      5301.0     Precinct 15  38.909639   \n",
       "\n",
       "     Longitude                Start_Date                  End_Date  Object_ID  \\\n",
       "184 -76.980324  2017-11-01T16:00:00.000Z  2017-11-01T16:05:00.000Z  306951319   \n",
       "185 -77.052353  2017-10-29T10:30:00.000Z  2017-11-11T18:30:00.000Z  306951320   \n",
       "186 -77.037518  2017-11-01T08:00:00.000Z  2017-11-02T17:00:00.000Z  306951321   \n",
       "\n",
       "      Octo_Recor  \n",
       "184  17401844-01  \n",
       "185  17401847-01  \n",
       "186  17401849-01  \n",
       "\n",
       "[3 rows x 22 columns]"
      ]
     },
     "execution_count": 8,
     "metadata": {},
     "output_type": "execute_result"
    }
   ],
   "source": [
    "mask = renamed_df['PSA'].isnull()\n",
    "renamed_df.loc[mask]"
   ]
  },
  {
   "cell_type": "markdown",
   "metadata": {},
   "source": [
    "### PSA column: Fill NaN with Median Value"
   ]
  },
  {
   "cell_type": "code",
   "execution_count": 9,
   "metadata": {},
   "outputs": [],
   "source": [
    "renamed_df['PSA'] = renamed_df['PSA'].fillna(renamed_df['PSA'].median())"
   ]
  },
  {
   "cell_type": "code",
   "execution_count": 10,
   "metadata": {},
   "outputs": [],
   "source": [
    "renamed_df['District'] = renamed_df['District'].fillna(renamed_df['District'].median())"
   ]
  },
  {
   "cell_type": "code",
   "execution_count": 11,
   "metadata": {},
   "outputs": [],
   "source": [
    "renamed_df['Neighborhood'] = renamed_df['Neighborhood'].fillna('Cluster 9')"
   ]
  },
  {
   "cell_type": "code",
   "execution_count": 12,
   "metadata": {},
   "outputs": [],
   "source": [
    "renamed_df['Census_Trac'] = renamed_df['Census_Trac'].fillna(renamed_df['Census_Trac'].median())"
   ]
  },
  {
   "cell_type": "code",
   "execution_count": 13,
   "metadata": {},
   "outputs": [],
   "source": [
    "renamed_df['Block_Grou'] = renamed_df['Block_Grou'].fillna('011100')"
   ]
  },
  {
   "cell_type": "code",
   "execution_count": 14,
   "metadata": {},
   "outputs": [],
   "source": [
    "renamed_df['End_Date'] = renamed_df['End_Date'].fillna('2018-01-21 17:20:59+0000')"
   ]
  },
  {
   "cell_type": "code",
   "execution_count": 15,
   "metadata": {},
   "outputs": [
    {
     "data": {
      "text/plain": [
       "CCN                0\n",
       "Report             0\n",
       "Shift              0\n",
       "Method             0\n",
       "Offense            0\n",
       "Block              0\n",
       "XBlock             0\n",
       "YBlock             0\n",
       "Ward               0\n",
       "ANC                0\n",
       "District           0\n",
       "PSA                0\n",
       "Neighborhood       0\n",
       "Block_Grou         0\n",
       "Census_Trac        0\n",
       "Voting_Precinct    0\n",
       "Latitude           0\n",
       "Longitude          0\n",
       "Start_Date         0\n",
       "End_Date           0\n",
       "Object_ID          0\n",
       "Octo_Recor         0\n",
       "dtype: int64"
      ]
     },
     "execution_count": 15,
     "metadata": {},
     "output_type": "execute_result"
    }
   ],
   "source": [
    "renamed_df.isnull().sum()"
   ]
  },
  {
   "cell_type": "code",
   "execution_count": 16,
   "metadata": {},
   "outputs": [
    {
     "name": "stdout",
     "output_type": "stream",
     "text": [
      "<class 'pandas.core.frame.DataFrame'>\n",
      "RangeIndex: 33082 entries, 0 to 33081\n",
      "Data columns (total 22 columns):\n",
      " #   Column           Non-Null Count  Dtype  \n",
      "---  ------           --------------  -----  \n",
      " 0   CCN              33082 non-null  int64  \n",
      " 1   Report           33082 non-null  object \n",
      " 2   Shift            33082 non-null  object \n",
      " 3   Method           33082 non-null  object \n",
      " 4   Offense          33082 non-null  object \n",
      " 5   Block            33082 non-null  object \n",
      " 6   XBlock           33082 non-null  int64  \n",
      " 7   YBlock           33082 non-null  int64  \n",
      " 8   Ward             33082 non-null  int64  \n",
      " 9   ANC              33082 non-null  object \n",
      " 10  District         33082 non-null  float64\n",
      " 11  PSA              33082 non-null  float64\n",
      " 12  Neighborhood     33082 non-null  object \n",
      " 13  Block_Grou       33082 non-null  object \n",
      " 14  Census_Trac      33082 non-null  float64\n",
      " 15  Voting_Precinct  33082 non-null  object \n",
      " 16  Latitude         33082 non-null  float64\n",
      " 17  Longitude        33082 non-null  float64\n",
      " 18  Start_Date       33082 non-null  object \n",
      " 19  End_Date         33082 non-null  object \n",
      " 20  Object_ID        33082 non-null  int64  \n",
      " 21  Octo_Recor       33082 non-null  object \n",
      "dtypes: float64(5), int64(5), object(12)\n",
      "memory usage: 5.6+ MB\n"
     ]
    }
   ],
   "source": [
    "renamed_df.info()"
   ]
  },
  {
   "cell_type": "markdown",
   "metadata": {},
   "source": [
    "# Convert Date Columns to Date Type"
   ]
  },
  {
   "cell_type": "code",
   "execution_count": 17,
   "metadata": {},
   "outputs": [],
   "source": [
    "renamed_df['Start_Date'] = pd.to_datetime(renamed_df['Start_Date'], format='%Y-%m-%dT%H:%M:%S.%f')"
   ]
  },
  {
   "cell_type": "code",
   "execution_count": 18,
   "metadata": {},
   "outputs": [],
   "source": [
    "renamed_df['End_Date'] = pd.to_datetime(renamed_df['End_Date'], format='%Y-%m-%dT%H:%M:%S.%f')"
   ]
  },
  {
   "cell_type": "markdown",
   "metadata": {},
   "source": [
    "### Confirm Columns are now Timestamps"
   ]
  },
  {
   "cell_type": "code",
   "execution_count": 19,
   "metadata": {},
   "outputs": [
    {
     "data": {
      "text/plain": [
       "Timestamp('2017-06-03 11:54:03+0000', tz='UTC')"
      ]
     },
     "execution_count": 19,
     "metadata": {},
     "output_type": "execute_result"
    }
   ],
   "source": [
    "renamed_df['Start_Date'][1]"
   ]
  },
  {
   "cell_type": "code",
   "execution_count": 20,
   "metadata": {},
   "outputs": [
    {
     "data": {
      "text/plain": [
       "Timestamp('2017-06-03 11:55:05+0000', tz='UTC')"
      ]
     },
     "execution_count": 20,
     "metadata": {},
     "output_type": "execute_result"
    }
   ],
   "source": [
    "renamed_df['End_Date'][1]"
   ]
  },
  {
   "cell_type": "markdown",
   "metadata": {},
   "source": [
    "# Convert Census_Trac Column to String"
   ]
  },
  {
   "cell_type": "code",
   "execution_count": 21,
   "metadata": {},
   "outputs": [
    {
     "data": {
      "text/plain": [
       "str"
      ]
     },
     "execution_count": 21,
     "metadata": {},
     "output_type": "execute_result"
    }
   ],
   "source": [
    "renamed_df['Census_Trac'] = renamed_df['Census_Trac'].astype(str)\n",
    "type(renamed_df['Census_Trac'][1])"
   ]
  },
  {
   "cell_type": "markdown",
   "metadata": {},
   "source": [
    "# Plot TimeSeries Of Crime"
   ]
  },
  {
   "cell_type": "markdown",
   "metadata": {},
   "source": [
    "### Set 'Start_Date' as the Index "
   ]
  },
  {
   "cell_type": "code",
   "execution_count": 22,
   "metadata": {},
   "outputs": [],
   "source": [
    "date_df = renamed_df\n",
    "date_df.sort_values('Start_Date', ascending=False, inplace=True)\n",
    "date_df.set_index('Start_Date', inplace=True)"
   ]
  },
  {
   "cell_type": "code",
   "execution_count": 23,
   "metadata": {},
   "outputs": [
    {
     "data": {
      "text/plain": [
       "Timestamp('2017-12-31 21:47:23+0000', tz='UTC')"
      ]
     },
     "execution_count": 23,
     "metadata": {},
     "output_type": "execute_result"
    }
   ],
   "source": [
    "date_df.index.max()"
   ]
  },
  {
   "cell_type": "code",
   "execution_count": 24,
   "metadata": {},
   "outputs": [
    {
     "data": {
      "text/plain": [
       "Timestamp('1980-06-02 20:00:46+0000', tz='UTC')"
      ]
     },
     "execution_count": 24,
     "metadata": {},
     "output_type": "execute_result"
    }
   ],
   "source": [
    "date_df.index.min()"
   ]
  },
  {
   "cell_type": "code",
   "execution_count": 25,
   "metadata": {},
   "outputs": [
    {
     "data": {
      "text/plain": [
       "DatetimeIndex(['2017-12-31 21:47:23+00:00', '2017-12-31 19:44:06+00:00',\n",
       "               '2017-12-31 18:50:04+00:00', '2017-12-31 17:18:18+00:00',\n",
       "               '2017-12-31 17:06:21+00:00', '2017-12-31 16:59:27+00:00',\n",
       "               '2017-12-31 16:10:06+00:00', '2017-12-31 15:56:09+00:00',\n",
       "               '2017-12-31 15:05:07+00:00', '2017-12-31 14:30:46+00:00',\n",
       "               ...\n",
       "               '2012-03-29 11:02:37+00:00', '2010-11-27 15:00:00+00:00',\n",
       "               '2010-11-26 03:00:08+00:00', '2010-07-27 21:00:23+00:00',\n",
       "               '2010-05-01 20:21:06+00:00', '2009-02-13 12:03:45+00:00',\n",
       "               '2009-01-17 00:00:55+00:00', '2007-03-21 15:52:49+00:00',\n",
       "               '2007-03-01 12:00:03+00:00', '1980-06-02 20:00:46+00:00'],\n",
       "              dtype='datetime64[ns, UTC]', name='Start_Date', length=32919, freq=None)"
      ]
     },
     "execution_count": 25,
     "metadata": {},
     "output_type": "execute_result"
    }
   ],
   "source": [
    "date_df.index.unique()"
   ]
  },
  {
   "cell_type": "code",
   "execution_count": 26,
   "metadata": {},
   "outputs": [
    {
     "data": {
      "text/html": [
       "<div>\n",
       "<style scoped>\n",
       "    .dataframe tbody tr th:only-of-type {\n",
       "        vertical-align: middle;\n",
       "    }\n",
       "\n",
       "    .dataframe tbody tr th {\n",
       "        vertical-align: top;\n",
       "    }\n",
       "\n",
       "    .dataframe thead th {\n",
       "        text-align: right;\n",
       "    }\n",
       "</style>\n",
       "<table border=\"1\" class=\"dataframe\">\n",
       "  <thead>\n",
       "    <tr style=\"text-align: right;\">\n",
       "      <th></th>\n",
       "      <th>CCN</th>\n",
       "      <th>Report</th>\n",
       "      <th>Shift</th>\n",
       "      <th>Method</th>\n",
       "      <th>Offense</th>\n",
       "      <th>Block</th>\n",
       "      <th>XBlock</th>\n",
       "      <th>YBlock</th>\n",
       "      <th>Ward</th>\n",
       "      <th>ANC</th>\n",
       "      <th>...</th>\n",
       "      <th>PSA</th>\n",
       "      <th>Neighborhood</th>\n",
       "      <th>Block_Grou</th>\n",
       "      <th>Census_Trac</th>\n",
       "      <th>Voting_Precinct</th>\n",
       "      <th>Latitude</th>\n",
       "      <th>Longitude</th>\n",
       "      <th>End_Date</th>\n",
       "      <th>Object_ID</th>\n",
       "      <th>Octo_Recor</th>\n",
       "    </tr>\n",
       "    <tr>\n",
       "      <th>Start_Date</th>\n",
       "      <th></th>\n",
       "      <th></th>\n",
       "      <th></th>\n",
       "      <th></th>\n",
       "      <th></th>\n",
       "      <th></th>\n",
       "      <th></th>\n",
       "      <th></th>\n",
       "      <th></th>\n",
       "      <th></th>\n",
       "      <th></th>\n",
       "      <th></th>\n",
       "      <th></th>\n",
       "      <th></th>\n",
       "      <th></th>\n",
       "      <th></th>\n",
       "      <th></th>\n",
       "      <th></th>\n",
       "      <th></th>\n",
       "      <th></th>\n",
       "      <th></th>\n",
       "    </tr>\n",
       "  </thead>\n",
       "  <tbody>\n",
       "    <tr>\n",
       "      <th>2017-12-31 21:47:23+00:00</th>\n",
       "      <td>17224414</td>\n",
       "      <td>2017-12-31T22:57:01.000Z</td>\n",
       "      <td>EVENING</td>\n",
       "      <td>GUN</td>\n",
       "      <td>ASSAULT W/DANGEROUS WEAPON</td>\n",
       "      <td>4412 4499  BLOCK OF SOUTHERN AVENUE SE</td>\n",
       "      <td>405682</td>\n",
       "      <td>133941</td>\n",
       "      <td>7</td>\n",
       "      <td>7E</td>\n",
       "      <td>...</td>\n",
       "      <td>605.0</td>\n",
       "      <td>Cluster 33</td>\n",
       "      <td>007707 2</td>\n",
       "      <td>7707.0</td>\n",
       "      <td>Precinct 106</td>\n",
       "      <td>38.873278</td>\n",
       "      <td>-76.934521</td>\n",
       "      <td>2017-12-31 22:57:01+00:00</td>\n",
       "      <td>306951076</td>\n",
       "      <td>17224414-01</td>\n",
       "    </tr>\n",
       "    <tr>\n",
       "      <th>2017-12-31 19:44:06+00:00</th>\n",
       "      <td>17224392</td>\n",
       "      <td>2017-12-31T21:54:00.000Z</td>\n",
       "      <td>EVENING</td>\n",
       "      <td>GUN</td>\n",
       "      <td>ASSAULT W/DANGEROUS WEAPON</td>\n",
       "      <td>600 - 699 BLOCK OF NEWTON PLACE NW</td>\n",
       "      <td>398007</td>\n",
       "      <td>140667</td>\n",
       "      <td>1</td>\n",
       "      <td>1A</td>\n",
       "      <td>...</td>\n",
       "      <td>409.0</td>\n",
       "      <td>Cluster 2</td>\n",
       "      <td>003200 2</td>\n",
       "      <td>3200.0</td>\n",
       "      <td>Precinct 43</td>\n",
       "      <td>38.933884</td>\n",
       "      <td>-77.022987</td>\n",
       "      <td>2017-12-31 21:53:58+00:00</td>\n",
       "      <td>306951074</td>\n",
       "      <td>17224392-01</td>\n",
       "    </tr>\n",
       "    <tr>\n",
       "      <th>2017-12-31 18:50:04+00:00</th>\n",
       "      <td>17224331</td>\n",
       "      <td>2017-12-31T19:48:08.000Z</td>\n",
       "      <td>EVENING</td>\n",
       "      <td>OTHERS</td>\n",
       "      <td>THEFT F/AUTO</td>\n",
       "      <td>3100 - 3199 BLOCK OF K STREET NW</td>\n",
       "      <td>394626</td>\n",
       "      <td>137194</td>\n",
       "      <td>2</td>\n",
       "      <td>2E</td>\n",
       "      <td>...</td>\n",
       "      <td>206.0</td>\n",
       "      <td>Cluster 4</td>\n",
       "      <td>000100 4</td>\n",
       "      <td>100.0</td>\n",
       "      <td>Precinct 5</td>\n",
       "      <td>38.902584</td>\n",
       "      <td>-77.061955</td>\n",
       "      <td>2017-12-31 19:35:41+00:00</td>\n",
       "      <td>306951071</td>\n",
       "      <td>17224331-01</td>\n",
       "    </tr>\n",
       "    <tr>\n",
       "      <th>2017-12-31 17:18:18+00:00</th>\n",
       "      <td>17224289</td>\n",
       "      <td>2017-12-31T17:50:36.000Z</td>\n",
       "      <td>EVENING</td>\n",
       "      <td>OTHERS</td>\n",
       "      <td>THEFT/OTHER</td>\n",
       "      <td>3100 - 3299 BLOCK OF ADAMS STREET NE</td>\n",
       "      <td>403249</td>\n",
       "      <td>139270</td>\n",
       "      <td>5</td>\n",
       "      <td>5C</td>\n",
       "      <td>...</td>\n",
       "      <td>503.0</td>\n",
       "      <td>Cluster 24</td>\n",
       "      <td>011100 1</td>\n",
       "      <td>11100.0</td>\n",
       "      <td>Precinct 71</td>\n",
       "      <td>38.921296</td>\n",
       "      <td>-76.962534</td>\n",
       "      <td>2017-12-31 17:50:34+00:00</td>\n",
       "      <td>306951069</td>\n",
       "      <td>17224289-01</td>\n",
       "    </tr>\n",
       "    <tr>\n",
       "      <th>2017-12-31 17:06:21+00:00</th>\n",
       "      <td>17224286</td>\n",
       "      <td>2017-12-31T17:57:14.000Z</td>\n",
       "      <td>EVENING</td>\n",
       "      <td>OTHERS</td>\n",
       "      <td>THEFT/OTHER</td>\n",
       "      <td>4600 - 4699 BLOCK OF HILLSIDE ROAD SE</td>\n",
       "      <td>405846</td>\n",
       "      <td>134296</td>\n",
       "      <td>7</td>\n",
       "      <td>7E</td>\n",
       "      <td>...</td>\n",
       "      <td>604.0</td>\n",
       "      <td>Cluster 33</td>\n",
       "      <td>007707 1</td>\n",
       "      <td>7707.0</td>\n",
       "      <td>Precinct 106</td>\n",
       "      <td>38.876475</td>\n",
       "      <td>-76.932628</td>\n",
       "      <td>2017-12-31 17:40:29+00:00</td>\n",
       "      <td>306951068</td>\n",
       "      <td>17224286-01</td>\n",
       "    </tr>\n",
       "  </tbody>\n",
       "</table>\n",
       "<p>5 rows × 21 columns</p>\n",
       "</div>"
      ],
      "text/plain": [
       "                                CCN                    Report    Shift  \\\n",
       "Start_Date                                                               \n",
       "2017-12-31 21:47:23+00:00  17224414  2017-12-31T22:57:01.000Z  EVENING   \n",
       "2017-12-31 19:44:06+00:00  17224392  2017-12-31T21:54:00.000Z  EVENING   \n",
       "2017-12-31 18:50:04+00:00  17224331  2017-12-31T19:48:08.000Z  EVENING   \n",
       "2017-12-31 17:18:18+00:00  17224289  2017-12-31T17:50:36.000Z  EVENING   \n",
       "2017-12-31 17:06:21+00:00  17224286  2017-12-31T17:57:14.000Z  EVENING   \n",
       "\n",
       "                           Method                     Offense  \\\n",
       "Start_Date                                                      \n",
       "2017-12-31 21:47:23+00:00     GUN  ASSAULT W/DANGEROUS WEAPON   \n",
       "2017-12-31 19:44:06+00:00     GUN  ASSAULT W/DANGEROUS WEAPON   \n",
       "2017-12-31 18:50:04+00:00  OTHERS                THEFT F/AUTO   \n",
       "2017-12-31 17:18:18+00:00  OTHERS                 THEFT/OTHER   \n",
       "2017-12-31 17:06:21+00:00  OTHERS                 THEFT/OTHER   \n",
       "\n",
       "                                                            Block  XBlock  \\\n",
       "Start_Date                                                                  \n",
       "2017-12-31 21:47:23+00:00  4412 4499  BLOCK OF SOUTHERN AVENUE SE  405682   \n",
       "2017-12-31 19:44:06+00:00      600 - 699 BLOCK OF NEWTON PLACE NW  398007   \n",
       "2017-12-31 18:50:04+00:00        3100 - 3199 BLOCK OF K STREET NW  394626   \n",
       "2017-12-31 17:18:18+00:00    3100 - 3299 BLOCK OF ADAMS STREET NE  403249   \n",
       "2017-12-31 17:06:21+00:00   4600 - 4699 BLOCK OF HILLSIDE ROAD SE  405846   \n",
       "\n",
       "                           YBlock  Ward ANC  ...    PSA  Neighborhood  \\\n",
       "Start_Date                                   ...                        \n",
       "2017-12-31 21:47:23+00:00  133941     7  7E  ...  605.0    Cluster 33   \n",
       "2017-12-31 19:44:06+00:00  140667     1  1A  ...  409.0     Cluster 2   \n",
       "2017-12-31 18:50:04+00:00  137194     2  2E  ...  206.0     Cluster 4   \n",
       "2017-12-31 17:18:18+00:00  139270     5  5C  ...  503.0    Cluster 24   \n",
       "2017-12-31 17:06:21+00:00  134296     7  7E  ...  604.0    Cluster 33   \n",
       "\n",
       "                          Block_Grou Census_Trac Voting_Precinct   Latitude  \\\n",
       "Start_Date                                                                    \n",
       "2017-12-31 21:47:23+00:00   007707 2      7707.0    Precinct 106  38.873278   \n",
       "2017-12-31 19:44:06+00:00   003200 2      3200.0     Precinct 43  38.933884   \n",
       "2017-12-31 18:50:04+00:00   000100 4       100.0      Precinct 5  38.902584   \n",
       "2017-12-31 17:18:18+00:00   011100 1     11100.0     Precinct 71  38.921296   \n",
       "2017-12-31 17:06:21+00:00   007707 1      7707.0    Precinct 106  38.876475   \n",
       "\n",
       "                           Longitude                  End_Date  Object_ID  \\\n",
       "Start_Date                                                                  \n",
       "2017-12-31 21:47:23+00:00 -76.934521 2017-12-31 22:57:01+00:00  306951076   \n",
       "2017-12-31 19:44:06+00:00 -77.022987 2017-12-31 21:53:58+00:00  306951074   \n",
       "2017-12-31 18:50:04+00:00 -77.061955 2017-12-31 19:35:41+00:00  306951071   \n",
       "2017-12-31 17:18:18+00:00 -76.962534 2017-12-31 17:50:34+00:00  306951069   \n",
       "2017-12-31 17:06:21+00:00 -76.932628 2017-12-31 17:40:29+00:00  306951068   \n",
       "\n",
       "                            Octo_Recor  \n",
       "Start_Date                              \n",
       "2017-12-31 21:47:23+00:00  17224414-01  \n",
       "2017-12-31 19:44:06+00:00  17224392-01  \n",
       "2017-12-31 18:50:04+00:00  17224331-01  \n",
       "2017-12-31 17:18:18+00:00  17224289-01  \n",
       "2017-12-31 17:06:21+00:00  17224286-01  \n",
       "\n",
       "[5 rows x 21 columns]"
      ]
     },
     "execution_count": 26,
     "metadata": {},
     "output_type": "execute_result"
    }
   ],
   "source": [
    "date_df.head()"
   ]
  },
  {
   "cell_type": "code",
   "execution_count": 27,
   "metadata": {},
   "outputs": [
    {
     "data": {
      "text/html": [
       "<div>\n",
       "<style scoped>\n",
       "    .dataframe tbody tr th:only-of-type {\n",
       "        vertical-align: middle;\n",
       "    }\n",
       "\n",
       "    .dataframe tbody tr th {\n",
       "        vertical-align: top;\n",
       "    }\n",
       "\n",
       "    .dataframe thead th {\n",
       "        text-align: right;\n",
       "    }\n",
       "</style>\n",
       "<table border=\"1\" class=\"dataframe\">\n",
       "  <thead>\n",
       "    <tr style=\"text-align: right;\">\n",
       "      <th></th>\n",
       "      <th>CCN</th>\n",
       "      <th>Report</th>\n",
       "      <th>Shift</th>\n",
       "      <th>Method</th>\n",
       "      <th>Offense</th>\n",
       "      <th>Block</th>\n",
       "      <th>XBlock</th>\n",
       "      <th>YBlock</th>\n",
       "      <th>Ward</th>\n",
       "      <th>ANC</th>\n",
       "      <th>...</th>\n",
       "      <th>PSA</th>\n",
       "      <th>Neighborhood</th>\n",
       "      <th>Block_Grou</th>\n",
       "      <th>Census_Trac</th>\n",
       "      <th>Voting_Precinct</th>\n",
       "      <th>Latitude</th>\n",
       "      <th>Longitude</th>\n",
       "      <th>End_Date</th>\n",
       "      <th>Object_ID</th>\n",
       "      <th>Octo_Recor</th>\n",
       "    </tr>\n",
       "    <tr>\n",
       "      <th>Start_Date</th>\n",
       "      <th></th>\n",
       "      <th></th>\n",
       "      <th></th>\n",
       "      <th></th>\n",
       "      <th></th>\n",
       "      <th></th>\n",
       "      <th></th>\n",
       "      <th></th>\n",
       "      <th></th>\n",
       "      <th></th>\n",
       "      <th></th>\n",
       "      <th></th>\n",
       "      <th></th>\n",
       "      <th></th>\n",
       "      <th></th>\n",
       "      <th></th>\n",
       "      <th></th>\n",
       "      <th></th>\n",
       "      <th></th>\n",
       "      <th></th>\n",
       "      <th></th>\n",
       "    </tr>\n",
       "  </thead>\n",
       "  <tbody>\n",
       "    <tr>\n",
       "      <th>1980-06-02 20:00:46+00:00</th>\n",
       "      <td>1</td>\n",
       "      <td>1</td>\n",
       "      <td>1</td>\n",
       "      <td>1</td>\n",
       "      <td>1</td>\n",
       "      <td>1</td>\n",
       "      <td>1</td>\n",
       "      <td>1</td>\n",
       "      <td>1</td>\n",
       "      <td>1</td>\n",
       "      <td>...</td>\n",
       "      <td>1</td>\n",
       "      <td>1</td>\n",
       "      <td>1</td>\n",
       "      <td>1</td>\n",
       "      <td>1</td>\n",
       "      <td>1</td>\n",
       "      <td>1</td>\n",
       "      <td>1</td>\n",
       "      <td>1</td>\n",
       "      <td>1</td>\n",
       "    </tr>\n",
       "  </tbody>\n",
       "</table>\n",
       "<p>1 rows × 21 columns</p>\n",
       "</div>"
      ],
      "text/plain": [
       "                           CCN  Report  Shift  Method  Offense  Block  XBlock  \\\n",
       "Start_Date                                                                      \n",
       "1980-06-02 20:00:46+00:00    1       1      1       1        1      1       1   \n",
       "\n",
       "                           YBlock  Ward  ANC  ...  PSA  Neighborhood  \\\n",
       "Start_Date                                    ...                      \n",
       "1980-06-02 20:00:46+00:00       1     1    1  ...    1             1   \n",
       "\n",
       "                           Block_Grou  Census_Trac  Voting_Precinct  Latitude  \\\n",
       "Start_Date                                                                      \n",
       "1980-06-02 20:00:46+00:00           1            1                1         1   \n",
       "\n",
       "                           Longitude  End_Date  Object_ID  Octo_Recor  \n",
       "Start_Date                                                             \n",
       "1980-06-02 20:00:46+00:00          1         1          1           1  \n",
       "\n",
       "[1 rows x 21 columns]"
      ]
     },
     "execution_count": 27,
     "metadata": {},
     "output_type": "execute_result"
    }
   ],
   "source": [
    "date_agg_df = date_df.groupby('Start_Date').count()\n",
    "date_agg_df.head(1)"
   ]
  },
  {
   "cell_type": "code",
   "execution_count": 28,
   "metadata": {},
   "outputs": [
    {
     "data": {
      "image/png": "[encoded data removed]",
      "text/plain": [
       "<Figure size 432x288 with 1 Axes>"
      ]
     },
     "metadata": {
      "needs_background": "light"
     },
     "output_type": "display_data"
    }
   ],
   "source": [
    "date_agg_df[\"2017-01-01\":\"2017-12-31\"].plot();"
   ]
  },
  {
   "cell_type": "markdown",
   "metadata": {},
   "source": [
    "### Dataset covers 1980 - 2017\n",
    "\n",
    "- not only 2017"
   ]
  },
  {
   "cell_type": "code",
   "execution_count": 29,
   "metadata": {},
   "outputs": [
    {
     "data": {
      "text/plain": [
       "Int64Index([2017, 2017, 2017, 2017, 2017, 2017, 2017, 2017, 2017, 2017,\n",
       "            ...\n",
       "            2012, 2010, 2010, 2010, 2010, 2009, 2009, 2007, 2007, 1980],\n",
       "           dtype='int64', name='Start_Date', length=33082)"
      ]
     },
     "execution_count": 29,
     "metadata": {},
     "output_type": "execute_result"
    }
   ],
   "source": [
    "date_df.index.year"
   ]
  },
  {
   "cell_type": "code",
   "execution_count": 30,
   "metadata": {},
   "outputs": [
    {
     "data": {
      "text/html": [
       "<div>\n",
       "<style scoped>\n",
       "    .dataframe tbody tr th:only-of-type {\n",
       "        vertical-align: middle;\n",
       "    }\n",
       "\n",
       "    .dataframe tbody tr th {\n",
       "        vertical-align: top;\n",
       "    }\n",
       "\n",
       "    .dataframe thead th {\n",
       "        text-align: right;\n",
       "    }\n",
       "</style>\n",
       "<table border=\"1\" class=\"dataframe\">\n",
       "  <thead>\n",
       "    <tr style=\"text-align: right;\">\n",
       "      <th></th>\n",
       "      <th>CCN</th>\n",
       "      <th>Report</th>\n",
       "      <th>Shift</th>\n",
       "      <th>Method</th>\n",
       "      <th>Offense</th>\n",
       "      <th>Block</th>\n",
       "      <th>XBlock</th>\n",
       "      <th>YBlock</th>\n",
       "      <th>Ward</th>\n",
       "      <th>ANC</th>\n",
       "      <th>...</th>\n",
       "      <th>PSA</th>\n",
       "      <th>Neighborhood</th>\n",
       "      <th>Block_Grou</th>\n",
       "      <th>Census_Trac</th>\n",
       "      <th>Voting_Precinct</th>\n",
       "      <th>Latitude</th>\n",
       "      <th>Longitude</th>\n",
       "      <th>End_Date</th>\n",
       "      <th>Object_ID</th>\n",
       "      <th>Octo_Recor</th>\n",
       "    </tr>\n",
       "    <tr>\n",
       "      <th>Start_Date</th>\n",
       "      <th></th>\n",
       "      <th></th>\n",
       "      <th></th>\n",
       "      <th></th>\n",
       "      <th></th>\n",
       "      <th></th>\n",
       "      <th></th>\n",
       "      <th></th>\n",
       "      <th></th>\n",
       "      <th></th>\n",
       "      <th></th>\n",
       "      <th></th>\n",
       "      <th></th>\n",
       "      <th></th>\n",
       "      <th></th>\n",
       "      <th></th>\n",
       "      <th></th>\n",
       "      <th></th>\n",
       "      <th></th>\n",
       "      <th></th>\n",
       "      <th></th>\n",
       "    </tr>\n",
       "  </thead>\n",
       "  <tbody>\n",
       "    <tr>\n",
       "      <th>2017-12-31 21:47:23+00:00</th>\n",
       "      <td>17224414</td>\n",
       "      <td>2017-12-31T22:57:01.000Z</td>\n",
       "      <td>EVENING</td>\n",
       "      <td>GUN</td>\n",
       "      <td>ASSAULT W/DANGEROUS WEAPON</td>\n",
       "      <td>4412 4499  BLOCK OF SOUTHERN AVENUE SE</td>\n",
       "      <td>405682</td>\n",
       "      <td>133941</td>\n",
       "      <td>7</td>\n",
       "      <td>7E</td>\n",
       "      <td>...</td>\n",
       "      <td>605.0</td>\n",
       "      <td>Cluster 33</td>\n",
       "      <td>007707 2</td>\n",
       "      <td>7707.0</td>\n",
       "      <td>Precinct 106</td>\n",
       "      <td>38.873278</td>\n",
       "      <td>-76.934521</td>\n",
       "      <td>2017-12-31 22:57:01+00:00</td>\n",
       "      <td>306951076</td>\n",
       "      <td>17224414-01</td>\n",
       "    </tr>\n",
       "    <tr>\n",
       "      <th>2017-12-31 19:44:06+00:00</th>\n",
       "      <td>17224392</td>\n",
       "      <td>2017-12-31T21:54:00.000Z</td>\n",
       "      <td>EVENING</td>\n",
       "      <td>GUN</td>\n",
       "      <td>ASSAULT W/DANGEROUS WEAPON</td>\n",
       "      <td>600 - 699 BLOCK OF NEWTON PLACE NW</td>\n",
       "      <td>398007</td>\n",
       "      <td>140667</td>\n",
       "      <td>1</td>\n",
       "      <td>1A</td>\n",
       "      <td>...</td>\n",
       "      <td>409.0</td>\n",
       "      <td>Cluster 2</td>\n",
       "      <td>003200 2</td>\n",
       "      <td>3200.0</td>\n",
       "      <td>Precinct 43</td>\n",
       "      <td>38.933884</td>\n",
       "      <td>-77.022987</td>\n",
       "      <td>2017-12-31 21:53:58+00:00</td>\n",
       "      <td>306951074</td>\n",
       "      <td>17224392-01</td>\n",
       "    </tr>\n",
       "    <tr>\n",
       "      <th>2017-12-31 18:50:04+00:00</th>\n",
       "      <td>17224331</td>\n",
       "      <td>2017-12-31T19:48:08.000Z</td>\n",
       "      <td>EVENING</td>\n",
       "      <td>OTHERS</td>\n",
       "      <td>THEFT F/AUTO</td>\n",
       "      <td>3100 - 3199 BLOCK OF K STREET NW</td>\n",
       "      <td>394626</td>\n",
       "      <td>137194</td>\n",
       "      <td>2</td>\n",
       "      <td>2E</td>\n",
       "      <td>...</td>\n",
       "      <td>206.0</td>\n",
       "      <td>Cluster 4</td>\n",
       "      <td>000100 4</td>\n",
       "      <td>100.0</td>\n",
       "      <td>Precinct 5</td>\n",
       "      <td>38.902584</td>\n",
       "      <td>-77.061955</td>\n",
       "      <td>2017-12-31 19:35:41+00:00</td>\n",
       "      <td>306951071</td>\n",
       "      <td>17224331-01</td>\n",
       "    </tr>\n",
       "  </tbody>\n",
       "</table>\n",
       "<p>3 rows × 21 columns</p>\n",
       "</div>"
      ],
      "text/plain": [
       "                                CCN                    Report    Shift  \\\n",
       "Start_Date                                                               \n",
       "2017-12-31 21:47:23+00:00  17224414  2017-12-31T22:57:01.000Z  EVENING   \n",
       "2017-12-31 19:44:06+00:00  17224392  2017-12-31T21:54:00.000Z  EVENING   \n",
       "2017-12-31 18:50:04+00:00  17224331  2017-12-31T19:48:08.000Z  EVENING   \n",
       "\n",
       "                           Method                     Offense  \\\n",
       "Start_Date                                                      \n",
       "2017-12-31 21:47:23+00:00     GUN  ASSAULT W/DANGEROUS WEAPON   \n",
       "2017-12-31 19:44:06+00:00     GUN  ASSAULT W/DANGEROUS WEAPON   \n",
       "2017-12-31 18:50:04+00:00  OTHERS                THEFT F/AUTO   \n",
       "\n",
       "                                                            Block  XBlock  \\\n",
       "Start_Date                                                                  \n",
       "2017-12-31 21:47:23+00:00  4412 4499  BLOCK OF SOUTHERN AVENUE SE  405682   \n",
       "2017-12-31 19:44:06+00:00      600 - 699 BLOCK OF NEWTON PLACE NW  398007   \n",
       "2017-12-31 18:50:04+00:00        3100 - 3199 BLOCK OF K STREET NW  394626   \n",
       "\n",
       "                           YBlock  Ward ANC  ...    PSA  Neighborhood  \\\n",
       "Start_Date                                   ...                        \n",
       "2017-12-31 21:47:23+00:00  133941     7  7E  ...  605.0    Cluster 33   \n",
       "2017-12-31 19:44:06+00:00  140667     1  1A  ...  409.0     Cluster 2   \n",
       "2017-12-31 18:50:04+00:00  137194     2  2E  ...  206.0     Cluster 4   \n",
       "\n",
       "                          Block_Grou Census_Trac Voting_Precinct   Latitude  \\\n",
       "Start_Date                                                                    \n",
       "2017-12-31 21:47:23+00:00   007707 2      7707.0    Precinct 106  38.873278   \n",
       "2017-12-31 19:44:06+00:00   003200 2      3200.0     Precinct 43  38.933884   \n",
       "2017-12-31 18:50:04+00:00   000100 4       100.0      Precinct 5  38.902584   \n",
       "\n",
       "                           Longitude                  End_Date  Object_ID  \\\n",
       "Start_Date                                                                  \n",
       "2017-12-31 21:47:23+00:00 -76.934521 2017-12-31 22:57:01+00:00  306951076   \n",
       "2017-12-31 19:44:06+00:00 -77.022987 2017-12-31 21:53:58+00:00  306951074   \n",
       "2017-12-31 18:50:04+00:00 -77.061955 2017-12-31 19:35:41+00:00  306951071   \n",
       "\n",
       "                            Octo_Recor  \n",
       "Start_Date                              \n",
       "2017-12-31 21:47:23+00:00  17224414-01  \n",
       "2017-12-31 19:44:06+00:00  17224392-01  \n",
       "2017-12-31 18:50:04+00:00  17224331-01  \n",
       "\n",
       "[3 rows x 21 columns]"
      ]
     },
     "execution_count": 30,
     "metadata": {},
     "output_type": "execute_result"
    }
   ],
   "source": [
    "date_df.head(3)"
   ]
  },
  {
   "cell_type": "markdown",
   "metadata": {},
   "source": [
    "# Write Modified DataFrame to CSV\n",
    "\n",
    "- new CSV file will be merged with Washington 2017 Poverty Dataset"
   ]
  },
  {
   "cell_type": "code",
   "execution_count": 31,
   "metadata": {},
   "outputs": [],
   "source": [
    "renamed_df.to_csv(\"renamed_crime_data.csv\", index=False)"
   ]
  },
  {
   "cell_type": "markdown",
   "metadata": {},
   "source": [
    "# Overview of Data"
   ]
  },
  {
   "cell_type": "code",
   "execution_count": 32,
   "metadata": {
    "scrolled": true
   },
   "outputs": [
    {
     "data": {
      "text/html": [
       "<div>\n",
       "<style scoped>\n",
       "    .dataframe tbody tr th:only-of-type {\n",
       "        vertical-align: middle;\n",
       "    }\n",
       "\n",
       "    .dataframe tbody tr th {\n",
       "        vertical-align: top;\n",
       "    }\n",
       "\n",
       "    .dataframe thead th {\n",
       "        text-align: right;\n",
       "    }\n",
       "</style>\n",
       "<table border=\"1\" class=\"dataframe\">\n",
       "  <thead>\n",
       "    <tr style=\"text-align: right;\">\n",
       "      <th></th>\n",
       "      <th>CCN</th>\n",
       "      <th>XBlock</th>\n",
       "      <th>YBlock</th>\n",
       "      <th>Ward</th>\n",
       "      <th>District</th>\n",
       "      <th>PSA</th>\n",
       "      <th>Latitude</th>\n",
       "      <th>Longitude</th>\n",
       "      <th>Object_ID</th>\n",
       "    </tr>\n",
       "  </thead>\n",
       "  <tbody>\n",
       "    <tr>\n",
       "      <th>count</th>\n",
       "      <td>3.308200e+04</td>\n",
       "      <td>33082.000000</td>\n",
       "      <td>33082.000000</td>\n",
       "      <td>33082.000000</td>\n",
       "      <td>33082.000000</td>\n",
       "      <td>33082.000000</td>\n",
       "      <td>33082.000000</td>\n",
       "      <td>33082.000000</td>\n",
       "      <td>3.308200e+04</td>\n",
       "    </tr>\n",
       "    <tr>\n",
       "      <th>mean</th>\n",
       "      <td>1.712021e+07</td>\n",
       "      <td>399396.652711</td>\n",
       "      <td>137623.379451</td>\n",
       "      <td>4.456139</td>\n",
       "      <td>3.721329</td>\n",
       "      <td>376.865244</td>\n",
       "      <td>38.906463</td>\n",
       "      <td>-77.006963</td>\n",
       "      <td>3.072805e+08</td>\n",
       "    </tr>\n",
       "    <tr>\n",
       "      <th>std</th>\n",
       "      <td>1.502723e+05</td>\n",
       "      <td>3150.374167</td>\n",
       "      <td>3358.194998</td>\n",
       "      <td>2.335491</td>\n",
       "      <td>1.909376</td>\n",
       "      <td>190.723370</td>\n",
       "      <td>0.030251</td>\n",
       "      <td>0.036323</td>\n",
       "      <td>6.578455e+04</td>\n",
       "    </tr>\n",
       "    <tr>\n",
       "      <th>min</th>\n",
       "      <td>2.111617e+06</td>\n",
       "      <td>390262.000000</td>\n",
       "      <td>127300.000000</td>\n",
       "      <td>1.000000</td>\n",
       "      <td>1.000000</td>\n",
       "      <td>101.000000</td>\n",
       "      <td>38.813471</td>\n",
       "      <td>-77.112316</td>\n",
       "      <td>3.069501e+08</td>\n",
       "    </tr>\n",
       "    <tr>\n",
       "      <th>25%</th>\n",
       "      <td>1.705836e+07</td>\n",
       "      <td>397302.250000</td>\n",
       "      <td>136093.000000</td>\n",
       "      <td>2.000000</td>\n",
       "      <td>2.000000</td>\n",
       "      <td>207.000000</td>\n",
       "      <td>38.892672</td>\n",
       "      <td>-77.031103</td>\n",
       "      <td>3.072732e+08</td>\n",
       "    </tr>\n",
       "    <tr>\n",
       "      <th>50%</th>\n",
       "      <td>1.711666e+07</td>\n",
       "      <td>399074.000000</td>\n",
       "      <td>137579.000000</td>\n",
       "      <td>5.000000</td>\n",
       "      <td>3.000000</td>\n",
       "      <td>308.000000</td>\n",
       "      <td>38.906061</td>\n",
       "      <td>-77.010676</td>\n",
       "      <td>3.072815e+08</td>\n",
       "    </tr>\n",
       "    <tr>\n",
       "      <th>75%</th>\n",
       "      <td>1.717467e+07</td>\n",
       "      <td>401342.250000</td>\n",
       "      <td>139586.000000</td>\n",
       "      <td>6.000000</td>\n",
       "      <td>5.000000</td>\n",
       "      <td>507.000000</td>\n",
       "      <td>38.924144</td>\n",
       "      <td>-76.984522</td>\n",
       "      <td>3.073028e+08</td>\n",
       "    </tr>\n",
       "    <tr>\n",
       "      <th>max</th>\n",
       "      <td>2.709178e+07</td>\n",
       "      <td>407806.000000</td>\n",
       "      <td>147292.000000</td>\n",
       "      <td>8.000000</td>\n",
       "      <td>7.000000</td>\n",
       "      <td>708.000000</td>\n",
       "      <td>38.993560</td>\n",
       "      <td>-76.910021</td>\n",
       "      <td>3.073348e+08</td>\n",
       "    </tr>\n",
       "  </tbody>\n",
       "</table>\n",
       "</div>"
      ],
      "text/plain": [
       "                CCN         XBlock         YBlock          Ward      District  \\\n",
       "count  3.308200e+04   33082.000000   33082.000000  33082.000000  33082.000000   \n",
       "mean   1.712021e+07  399396.652711  137623.379451      4.456139      3.721329   \n",
       "std    1.502723e+05    3150.374167    3358.194998      2.335491      1.909376   \n",
       "min    2.111617e+06  390262.000000  127300.000000      1.000000      1.000000   \n",
       "25%    1.705836e+07  397302.250000  136093.000000      2.000000      2.000000   \n",
       "50%    1.711666e+07  399074.000000  137579.000000      5.000000      3.000000   \n",
       "75%    1.717467e+07  401342.250000  139586.000000      6.000000      5.000000   \n",
       "max    2.709178e+07  407806.000000  147292.000000      8.000000      7.000000   \n",
       "\n",
       "                PSA      Latitude     Longitude     Object_ID  \n",
       "count  33082.000000  33082.000000  33082.000000  3.308200e+04  \n",
       "mean     376.865244     38.906463    -77.006963  3.072805e+08  \n",
       "std      190.723370      0.030251      0.036323  6.578455e+04  \n",
       "min      101.000000     38.813471    -77.112316  3.069501e+08  \n",
       "25%      207.000000     38.892672    -77.031103  3.072732e+08  \n",
       "50%      308.000000     38.906061    -77.010676  3.072815e+08  \n",
       "75%      507.000000     38.924144    -76.984522  3.073028e+08  \n",
       "max      708.000000     38.993560    -76.910021  3.073348e+08  "
      ]
     },
     "execution_count": 32,
     "metadata": {},
     "output_type": "execute_result"
    }
   ],
   "source": [
    "renamed_df.describe()"
   ]
  },
  {
   "cell_type": "code",
   "execution_count": 33,
   "metadata": {},
   "outputs": [
    {
     "name": "stdout",
     "output_type": "stream",
     "text": [
      "<class 'pandas.core.frame.DataFrame'>\n",
      "DatetimeIndex: 33082 entries, 2017-12-31 21:47:23+00:00 to 1980-06-02 20:00:46+00:00\n",
      "Data columns (total 21 columns):\n",
      " #   Column           Non-Null Count  Dtype              \n",
      "---  ------           --------------  -----              \n",
      " 0   CCN              33082 non-null  int64              \n",
      " 1   Report           33082 non-null  object             \n",
      " 2   Shift            33082 non-null  object             \n",
      " 3   Method           33082 non-null  object             \n",
      " 4   Offense          33082 non-null  object             \n",
      " 5   Block            33082 non-null  object             \n",
      " 6   XBlock           33082 non-null  int64              \n",
      " 7   YBlock           33082 non-null  int64              \n",
      " 8   Ward             33082 non-null  int64              \n",
      " 9   ANC              33082 non-null  object             \n",
      " 10  District         33082 non-null  float64            \n",
      " 11  PSA              33082 non-null  float64            \n",
      " 12  Neighborhood     33082 non-null  object             \n",
      " 13  Block_Grou       33082 non-null  object             \n",
      " 14  Census_Trac      33082 non-null  object             \n",
      " 15  Voting_Precinct  33082 non-null  object             \n",
      " 16  Latitude         33082 non-null  float64            \n",
      " 17  Longitude        33082 non-null  float64            \n",
      " 18  End_Date         33082 non-null  datetime64[ns, UTC]\n",
      " 19  Object_ID        33082 non-null  int64              \n",
      " 20  Octo_Recor       33082 non-null  object             \n",
      "dtypes: datetime64[ns, UTC](1), float64(4), int64(5), object(11)\n",
      "memory usage: 5.6+ MB\n"
     ]
    }
   ],
   "source": [
    "renamed_df.info()"
   ]
  },
  {
   "cell_type": "markdown",
   "metadata": {},
   "source": [
    "- 33082 rows total\n",
    "- following rows are missing data\n",
    "- DISTRICT,C,80\n",
    "- PSA,C,80\n",
    "- NEIGHBORHO,C,80\n",
    "- BLOCK_GROU,C,80\n",
    "- CENSUS_TRA,C,80\n",
    "- BID,C,80\n",
    "- END_DATE,C,80"
   ]
  },
  {
   "cell_type": "markdown",
   "metadata": {},
   "source": [
    "# Create Google Map of Crime"
   ]
  },
  {
   "cell_type": "markdown",
   "metadata": {},
   "source": [
    "### Create Heatmap based on Crime by Census Tract\n",
    "\n",
    "- Aggregate Crime Statistics by Census Tract, Latitude & Longitude"
   ]
  },
  {
   "cell_type": "code",
   "execution_count": 34,
   "metadata": {},
   "outputs": [
    {
     "data": {
      "text/html": [
       "<div>\n",
       "<style scoped>\n",
       "    .dataframe tbody tr th:only-of-type {\n",
       "        vertical-align: middle;\n",
       "    }\n",
       "\n",
       "    .dataframe tbody tr th {\n",
       "        vertical-align: top;\n",
       "    }\n",
       "\n",
       "    .dataframe thead th {\n",
       "        text-align: right;\n",
       "    }\n",
       "</style>\n",
       "<table border=\"1\" class=\"dataframe\">\n",
       "  <thead>\n",
       "    <tr style=\"text-align: right;\">\n",
       "      <th></th>\n",
       "      <th>Census_Trac</th>\n",
       "      <th>Latitude</th>\n",
       "      <th>Longitude</th>\n",
       "      <th>CCN</th>\n",
       "    </tr>\n",
       "  </thead>\n",
       "  <tbody>\n",
       "    <tr>\n",
       "      <th>0</th>\n",
       "      <td>100.0</td>\n",
       "      <td>38.902550</td>\n",
       "      <td>-77.058577</td>\n",
       "      <td>4</td>\n",
       "    </tr>\n",
       "    <tr>\n",
       "      <th>1</th>\n",
       "      <td>100.0</td>\n",
       "      <td>38.902584</td>\n",
       "      <td>-77.061955</td>\n",
       "      <td>27</td>\n",
       "    </tr>\n",
       "    <tr>\n",
       "      <th>2</th>\n",
       "      <td>100.0</td>\n",
       "      <td>38.902585</td>\n",
       "      <td>-77.059614</td>\n",
       "      <td>19</td>\n",
       "    </tr>\n",
       "    <tr>\n",
       "      <th>3</th>\n",
       "      <td>100.0</td>\n",
       "      <td>38.902594</td>\n",
       "      <td>-77.060629</td>\n",
       "      <td>20</td>\n",
       "    </tr>\n",
       "    <tr>\n",
       "      <th>4</th>\n",
       "      <td>100.0</td>\n",
       "      <td>38.903008</td>\n",
       "      <td>-77.061137</td>\n",
       "      <td>2</td>\n",
       "    </tr>\n",
       "  </tbody>\n",
       "</table>\n",
       "</div>"
      ],
      "text/plain": [
       "  Census_Trac   Latitude  Longitude  CCN\n",
       "0       100.0  38.902550 -77.058577    4\n",
       "1       100.0  38.902584 -77.061955   27\n",
       "2       100.0  38.902585 -77.059614   19\n",
       "3       100.0  38.902594 -77.060629   20\n",
       "4       100.0  38.903008 -77.061137    2"
      ]
     },
     "execution_count": 34,
     "metadata": {},
     "output_type": "execute_result"
    }
   ],
   "source": [
    "maps_df = renamed_df.groupby(['Census_Trac', 'Latitude', 'Longitude']).count()['CCN']\n",
    "maps_df = pd.DataFrame(maps_df)\n",
    "maps_df.reset_index(inplace=True)\n",
    "maps_df.head()"
   ]
  },
  {
   "cell_type": "code",
   "execution_count": 35,
   "metadata": {},
   "outputs": [
    {
     "data": {
      "application/vnd.jupyter.widget-view+json": {
       "model_id": "742df01f3e604014ab677a306079a7d1",
       "version_major": 2,
       "version_minor": 0
      },
      "text/plain": [
       "Figure(layout=FigureLayout(border='1px solid black', height='600px', margin='0 auto 0 auto', padding='1px', wi…"
      ]
     },
     "metadata": {},
     "output_type": "display_data"
    }
   ],
   "source": [
    "locations = maps_df[['Latitude','Longitude']]\n",
    "\n",
    "num_of_crimes = maps_df.CCN\n",
    "\n",
    "figure_layout = {\n",
    "    'width': '950px',\n",
    "    'height': '600px',\n",
    "    'border': '1px solid black',\n",
    "    'padding': '1px',\n",
    "    'margin': '0 auto 0 auto'\n",
    "}\n",
    "\n",
    "fig = gmaps.figure(map_type=\"HYBRID\", layout=figure_layout)\n",
    "heat_layer = gmaps.heatmap_layer(locations, weights=num_of_crimes, dissipating=True)\n",
    "\n",
    "fig.add_layer(heat_layer)\n",
    "fig"
   ]
  },
  {
   "cell_type": "markdown",
   "metadata": {},
   "source": [
    "# Types of Offenses"
   ]
  },
  {
   "cell_type": "markdown",
   "metadata": {},
   "source": [
    "- Here is a list of the various types of crime."
   ]
  },
  {
   "cell_type": "code",
   "execution_count": 36,
   "metadata": {},
   "outputs": [
    {
     "data": {
      "text/plain": [
       "array(['ASSAULT W/DANGEROUS WEAPON', 'THEFT F/AUTO', 'THEFT/OTHER',\n",
       "       'MOTOR VEHICLE THEFT', 'ROBBERY', 'SEX ABUSE', 'BURGLARY',\n",
       "       'HOMICIDE', 'ARSON'], dtype=object)"
      ]
     },
     "execution_count": 36,
     "metadata": {},
     "output_type": "execute_result"
    }
   ],
   "source": [
    "renamed_df.Offense.unique()"
   ]
  },
  {
   "cell_type": "markdown",
   "metadata": {},
   "source": [
    "### Volume of Crime by Type"
   ]
  },
  {
   "cell_type": "code",
   "execution_count": 37,
   "metadata": {},
   "outputs": [
    {
     "data": {
      "text/html": [
       "<div>\n",
       "<style scoped>\n",
       "    .dataframe tbody tr th:only-of-type {\n",
       "        vertical-align: middle;\n",
       "    }\n",
       "\n",
       "    .dataframe tbody tr th {\n",
       "        vertical-align: top;\n",
       "    }\n",
       "\n",
       "    .dataframe thead th {\n",
       "        text-align: right;\n",
       "    }\n",
       "</style>\n",
       "<table border=\"1\" class=\"dataframe\">\n",
       "  <thead>\n",
       "    <tr style=\"text-align: right;\">\n",
       "      <th></th>\n",
       "      <th>Frequency in 2017</th>\n",
       "    </tr>\n",
       "    <tr>\n",
       "      <th>Type of Crime</th>\n",
       "      <th></th>\n",
       "    </tr>\n",
       "  </thead>\n",
       "  <tbody>\n",
       "    <tr>\n",
       "      <th>THEFT/OTHER</th>\n",
       "      <td>14445</td>\n",
       "    </tr>\n",
       "    <tr>\n",
       "      <th>THEFT F/AUTO</th>\n",
       "      <td>10259</td>\n",
       "    </tr>\n",
       "    <tr>\n",
       "      <th>MOTOR VEHICLE THEFT</th>\n",
       "      <td>2408</td>\n",
       "    </tr>\n",
       "    <tr>\n",
       "      <th>ROBBERY</th>\n",
       "      <td>2170</td>\n",
       "    </tr>\n",
       "    <tr>\n",
       "      <th>ASSAULT W/DANGEROUS WEAPON</th>\n",
       "      <td>1856</td>\n",
       "    </tr>\n",
       "    <tr>\n",
       "      <th>BURGLARY</th>\n",
       "      <td>1531</td>\n",
       "    </tr>\n",
       "    <tr>\n",
       "      <th>SEX ABUSE</th>\n",
       "      <td>293</td>\n",
       "    </tr>\n",
       "    <tr>\n",
       "      <th>HOMICIDE</th>\n",
       "      <td>115</td>\n",
       "    </tr>\n",
       "    <tr>\n",
       "      <th>ARSON</th>\n",
       "      <td>5</td>\n",
       "    </tr>\n",
       "  </tbody>\n",
       "</table>\n",
       "</div>"
      ],
      "text/plain": [
       "                            Frequency in 2017\n",
       "Type of Crime                                \n",
       "THEFT/OTHER                             14445\n",
       "THEFT F/AUTO                            10259\n",
       "MOTOR VEHICLE THEFT                      2408\n",
       "ROBBERY                                  2170\n",
       "ASSAULT W/DANGEROUS WEAPON               1856\n",
       "BURGLARY                                 1531\n",
       "SEX ABUSE                                 293\n",
       "HOMICIDE                                  115\n",
       "ARSON                                       5"
      ]
     },
     "execution_count": 37,
     "metadata": {},
     "output_type": "execute_result"
    }
   ],
   "source": [
    "offense_type = renamed_df.groupby(['Offense']).count()['CCN']\n",
    "offense_type = pd.DataFrame(offense_type)\n",
    "offense_type.sort_values('CCN', ascending=False, inplace=True)\n",
    "offense_type = offense_type.rename(columns={'CCN': 'Frequency in 2017'})\n",
    "offense_type.index.names = ['Type of Crime']\n",
    "offense_type"
   ]
  },
  {
   "cell_type": "markdown",
   "metadata": {},
   "source": [
    "# Pie Chart: Types of Weapon"
   ]
  },
  {
   "cell_type": "code",
   "execution_count": 38,
   "metadata": {},
   "outputs": [
    {
     "data": {
      "image/png": "[encoded data removed]",
      "text/plain": [
       "<Figure size 576x576 with 1 Axes>"
      ]
     },
     "metadata": {},
     "output_type": "display_data"
    }
   ],
   "source": [
    "labels = ['GUN', 'KNIFE', 'OTHERS']\n",
    "sizes = renamed_df.groupby(['Method'])[\"CCN\"].count()\n",
    "colors = [\"violet\", \"aqua\", \"yellowgreen\"]\n",
    "explode = (0, 0, 0.2)\n",
    "\n",
    "plt.figure(figsize=(8, 8))\n",
    "plt.title(\"Distribution of Crime by Weapon\")\n",
    "plt.pie(sizes, explode=explode, labels=labels, colors=colors,\n",
    "        autopct=\"%1.1f%%\", shadow=True, startangle=140)\n",
    "plt.axis(\"equal\")\n",
    "plt.savefig('Images/Pie_Chart_Type_of_Weapon.png')\n",
    "plt.show()"
   ]
  },
  {
   "cell_type": "markdown",
   "metadata": {},
   "source": [
    "# Histograms"
   ]
  },
  {
   "cell_type": "markdown",
   "metadata": {},
   "source": [
    "### Create Function to Plot Histogram"
   ]
  },
  {
   "cell_type": "code",
   "execution_count": 39,
   "metadata": {},
   "outputs": [],
   "source": [
    "def matplotHistogram(col, df):\n",
    "\n",
    "    #Plot Bar Chart\n",
    "    plt.figure(figsize=(8, 8))\n",
    "    plt.hist(df[col], 100, color='indigo', alpha=0.75)\n",
    "    #plt.xticks(rotation=90)\n",
    "    plt.title(f\"Washington Crime Statistics 2017 by {col}\", fontsize=16, fontweight=\"bold\")\n",
    "    plt.xlabel(f\"{col}\")\n",
    "    plt.ylabel(\"Frequency of Offences\")\n",
    "    axes = plt.gca()\n",
    "    axes.yaxis.grid()\n",
    "    plt.savefig(f'Images/Histogram_{col}.png')\n",
    "    plt.show()"
   ]
  },
  {
   "cell_type": "code",
   "execution_count": 40,
   "metadata": {},
   "outputs": [
    {
     "data": {
      "image/png": "[encoded data removed]",
      "text/plain": [
       "<Figure size 576x576 with 1 Axes>"
      ]
     },
     "metadata": {
      "needs_background": "light"
     },
     "output_type": "display_data"
    }
   ],
   "source": [
    "matplotHistogram('Census_Trac', renamed_df)"
   ]
  },
  {
   "cell_type": "code",
   "execution_count": 41,
   "metadata": {},
   "outputs": [
    {
     "data": {
      "image/png": "[encoded data removed]",
      "text/plain": [
       "<Figure size 576x576 with 1 Axes>"
      ]
     },
     "metadata": {
      "needs_background": "light"
     },
     "output_type": "display_data"
    }
   ],
   "source": [
    "matplotHistogram('Method', renamed_df)"
   ]
  },
  {
   "cell_type": "code",
   "execution_count": 42,
   "metadata": {},
   "outputs": [
    {
     "data": {
      "text/plain": [
       "Index(['CCN', 'Report', 'Shift', 'Method', 'Offense', 'Block', 'XBlock',\n",
       "       'YBlock', 'Ward', 'ANC', 'District', 'PSA', 'Neighborhood',\n",
       "       'Block_Grou', 'Census_Trac', 'Voting_Precinct', 'Latitude', 'Longitude',\n",
       "       'End_Date', 'Object_ID', 'Octo_Recor'],\n",
       "      dtype='object')"
      ]
     },
     "execution_count": 42,
     "metadata": {},
     "output_type": "execute_result"
    }
   ],
   "source": [
    "renamed_df.columns"
   ]
  },
  {
   "cell_type": "markdown",
   "metadata": {},
   "source": [
    "### Create Histograms for Each Column"
   ]
  },
  {
   "cell_type": "code",
   "execution_count": 43,
   "metadata": {},
   "outputs": [],
   "source": [
    "cols = ['Report', 'Shift', 'Method', 'Offense', 'Block', 'XBlock',\n",
    "       'YBlock', 'Ward', 'ANC', 'District', 'PSA', 'Neighborhood',\n",
    "       'Block_Grou', 'Census_Trac', 'Voting_Precinct', 'Latitude', \n",
    "        'Longitude', 'Object_ID', 'Octo_Recor']"
   ]
  },
  {
   "cell_type": "markdown",
   "metadata": {},
   "source": [
    "- Graphs indicate that none of these variable demonstrate a normal distribution "
   ]
  },
  {
   "cell_type": "code",
   "execution_count": 44,
   "metadata": {
    "scrolled": false
   },
   "outputs": [],
   "source": [
    "#for col in cols:\n",
    "#    matplotHistogram(col,renamed_df)"
   ]
  },
  {
   "cell_type": "markdown",
   "metadata": {},
   "source": [
    "# Bar Charts"
   ]
  },
  {
   "cell_type": "markdown",
   "metadata": {},
   "source": [
    "### Create Function to Plot Bar Chart"
   ]
  },
  {
   "cell_type": "code",
   "execution_count": 45,
   "metadata": {},
   "outputs": [],
   "source": [
    "def matplotBarChart(col, df):\n",
    "    #Groupby operation on Target Column\n",
    "    #Assign to temporarily DataFrame\n",
    "    #Sort & capture top 10\n",
    "    sub_df = df.groupby([col]).count()['CCN']\n",
    "    sub_df = pd.DataFrame(sub_df)\n",
    "    sub_df.sort_values('CCN', ascending=False, inplace=True)\n",
    "    sub_df = sub_df.head(10)\n",
    "\n",
    "    #Plot Bar Chart\n",
    "    plt.figure(figsize=(8, 8))\n",
    "    plt.bar(sub_df.index, sub_df['CCN'], color='indigo', align=\"center\")\n",
    "    plt.xticks(rotation=90)\n",
    "    plt.title(f\"Washington Crime Statistics 2017 by {col}\", fontsize=16, fontweight=\"bold\")\n",
    "    plt.xlabel(f\"{col}\")\n",
    "    plt.ylabel(\"Number of Offences\")\n",
    "    axes = plt.gca()\n",
    "    axes.yaxis.grid()\n",
    "    plt.savefig(f'Images/Bar_Chart_{col}.png')\n",
    "    plt.show"
   ]
  },
  {
   "cell_type": "markdown",
   "metadata": {},
   "source": [
    "### Crime by Type of Offense"
   ]
  },
  {
   "cell_type": "code",
   "execution_count": 46,
   "metadata": {},
   "outputs": [
    {
     "data": {
      "image/png": "[encoded data removed]",
      "text/plain": [
       "<Figure size 576x576 with 1 Axes>"
      ]
     },
     "metadata": {
      "needs_background": "light"
     },
     "output_type": "display_data"
    }
   ],
   "source": [
    "matplotBarChart('Offense', renamed_df)"
   ]
  },
  {
   "cell_type": "markdown",
   "metadata": {},
   "source": [
    "### Crime by Census Tract"
   ]
  },
  {
   "cell_type": "code",
   "execution_count": 47,
   "metadata": {},
   "outputs": [
    {
     "data": {
      "image/png": "[encoded data removed]",
      "text/plain": [
       "<Figure size 576x576 with 1 Axes>"
      ]
     },
     "metadata": {
      "needs_background": "light"
     },
     "output_type": "display_data"
    }
   ],
   "source": [
    "matplotBarChart('Census_Trac', renamed_df)"
   ]
  },
  {
   "cell_type": "markdown",
   "metadata": {},
   "source": [
    "# Crime by Weapon"
   ]
  },
  {
   "cell_type": "code",
   "execution_count": 48,
   "metadata": {},
   "outputs": [
    {
     "data": {
      "image/png": "[encoded data removed]",
      "text/plain": [
       "<Figure size 576x576 with 1 Axes>"
      ]
     },
     "metadata": {
      "needs_background": "light"
     },
     "output_type": "display_data"
    }
   ],
   "source": [
    "matplotBarChart('Method', renamed_df)"
   ]
  },
  {
   "cell_type": "markdown",
   "metadata": {},
   "source": [
    "# Correlation"
   ]
  },
  {
   "cell_type": "markdown",
   "metadata": {},
   "source": [
    "Many of the fields in this dataset were related to location (e.g. XBlock, Ward,Census Tract, Voting Precinct, Latitude, Longitude).\n",
    "Consequently, it was difficult to find meaningful correlations."
   ]
  },
  {
   "cell_type": "code",
   "execution_count": 49,
   "metadata": {},
   "outputs": [
    {
     "data": {
      "text/html": [
       "<div>\n",
       "<style scoped>\n",
       "    .dataframe tbody tr th:only-of-type {\n",
       "        vertical-align: middle;\n",
       "    }\n",
       "\n",
       "    .dataframe tbody tr th {\n",
       "        vertical-align: top;\n",
       "    }\n",
       "\n",
       "    .dataframe thead th {\n",
       "        text-align: right;\n",
       "    }\n",
       "</style>\n",
       "<table border=\"1\" class=\"dataframe\">\n",
       "  <thead>\n",
       "    <tr style=\"text-align: right;\">\n",
       "      <th></th>\n",
       "      <th>CCN</th>\n",
       "      <th>XBlock</th>\n",
       "      <th>YBlock</th>\n",
       "      <th>Ward</th>\n",
       "      <th>District</th>\n",
       "      <th>PSA</th>\n",
       "      <th>Latitude</th>\n",
       "      <th>Longitude</th>\n",
       "      <th>Object_ID</th>\n",
       "    </tr>\n",
       "  </thead>\n",
       "  <tbody>\n",
       "    <tr>\n",
       "      <th>CCN</th>\n",
       "      <td>1.000000</td>\n",
       "      <td>-0.023778</td>\n",
       "      <td>0.013871</td>\n",
       "      <td>-0.027237</td>\n",
       "      <td>-0.023386</td>\n",
       "      <td>-0.023335</td>\n",
       "      <td>0.013869</td>\n",
       "      <td>-0.023775</td>\n",
       "      <td>-0.137417</td>\n",
       "    </tr>\n",
       "    <tr>\n",
       "      <th>XBlock</th>\n",
       "      <td>-0.023778</td>\n",
       "      <td>1.000000</td>\n",
       "      <td>-0.431536</td>\n",
       "      <td>0.731881</td>\n",
       "      <td>0.627228</td>\n",
       "      <td>0.627617</td>\n",
       "      <td>-0.431537</td>\n",
       "      <td>1.000000</td>\n",
       "      <td>0.077595</td>\n",
       "    </tr>\n",
       "    <tr>\n",
       "      <th>YBlock</th>\n",
       "      <td>0.013871</td>\n",
       "      <td>-0.431536</td>\n",
       "      <td>1.000000</td>\n",
       "      <td>-0.604422</td>\n",
       "      <td>-0.339310</td>\n",
       "      <td>-0.342623</td>\n",
       "      <td>1.000000</td>\n",
       "      <td>-0.431603</td>\n",
       "      <td>-0.037003</td>\n",
       "    </tr>\n",
       "    <tr>\n",
       "      <th>Ward</th>\n",
       "      <td>-0.027237</td>\n",
       "      <td>0.731881</td>\n",
       "      <td>-0.604422</td>\n",
       "      <td>1.000000</td>\n",
       "      <td>0.576754</td>\n",
       "      <td>0.576660</td>\n",
       "      <td>-0.604424</td>\n",
       "      <td>0.731845</td>\n",
       "      <td>0.062215</td>\n",
       "    </tr>\n",
       "    <tr>\n",
       "      <th>District</th>\n",
       "      <td>-0.023386</td>\n",
       "      <td>0.627228</td>\n",
       "      <td>-0.339310</td>\n",
       "      <td>0.576754</td>\n",
       "      <td>1.000000</td>\n",
       "      <td>0.999924</td>\n",
       "      <td>-0.339328</td>\n",
       "      <td>0.627160</td>\n",
       "      <td>0.075943</td>\n",
       "    </tr>\n",
       "    <tr>\n",
       "      <th>PSA</th>\n",
       "      <td>-0.023335</td>\n",
       "      <td>0.627617</td>\n",
       "      <td>-0.342623</td>\n",
       "      <td>0.576660</td>\n",
       "      <td>0.999924</td>\n",
       "      <td>1.000000</td>\n",
       "      <td>-0.342640</td>\n",
       "      <td>0.627550</td>\n",
       "      <td>0.075807</td>\n",
       "    </tr>\n",
       "    <tr>\n",
       "      <th>Latitude</th>\n",
       "      <td>0.013869</td>\n",
       "      <td>-0.431537</td>\n",
       "      <td>1.000000</td>\n",
       "      <td>-0.604424</td>\n",
       "      <td>-0.339328</td>\n",
       "      <td>-0.342640</td>\n",
       "      <td>1.000000</td>\n",
       "      <td>-0.431604</td>\n",
       "      <td>-0.037001</td>\n",
       "    </tr>\n",
       "    <tr>\n",
       "      <th>Longitude</th>\n",
       "      <td>-0.023775</td>\n",
       "      <td>1.000000</td>\n",
       "      <td>-0.431603</td>\n",
       "      <td>0.731845</td>\n",
       "      <td>0.627160</td>\n",
       "      <td>0.627550</td>\n",
       "      <td>-0.431604</td>\n",
       "      <td>1.000000</td>\n",
       "      <td>0.077593</td>\n",
       "    </tr>\n",
       "    <tr>\n",
       "      <th>Object_ID</th>\n",
       "      <td>-0.137417</td>\n",
       "      <td>0.077595</td>\n",
       "      <td>-0.037003</td>\n",
       "      <td>0.062215</td>\n",
       "      <td>0.075943</td>\n",
       "      <td>0.075807</td>\n",
       "      <td>-0.037001</td>\n",
       "      <td>0.077593</td>\n",
       "      <td>1.000000</td>\n",
       "    </tr>\n",
       "  </tbody>\n",
       "</table>\n",
       "</div>"
      ],
      "text/plain": [
       "                CCN    XBlock    YBlock      Ward  District       PSA  \\\n",
       "CCN        1.000000 -0.023778  0.013871 -0.027237 -0.023386 -0.023335   \n",
       "XBlock    -0.023778  1.000000 -0.431536  0.731881  0.627228  0.627617   \n",
       "YBlock     0.013871 -0.431536  1.000000 -0.604422 -0.339310 -0.342623   \n",
       "Ward      -0.027237  0.731881 -0.604422  1.000000  0.576754  0.576660   \n",
       "District  -0.023386  0.627228 -0.339310  0.576754  1.000000  0.999924   \n",
       "PSA       -0.023335  0.627617 -0.342623  0.576660  0.999924  1.000000   \n",
       "Latitude   0.013869 -0.431537  1.000000 -0.604424 -0.339328 -0.342640   \n",
       "Longitude -0.023775  1.000000 -0.431603  0.731845  0.627160  0.627550   \n",
       "Object_ID -0.137417  0.077595 -0.037003  0.062215  0.075943  0.075807   \n",
       "\n",
       "           Latitude  Longitude  Object_ID  \n",
       "CCN        0.013869  -0.023775  -0.137417  \n",
       "XBlock    -0.431537   1.000000   0.077595  \n",
       "YBlock     1.000000  -0.431603  -0.037003  \n",
       "Ward      -0.604424   0.731845   0.062215  \n",
       "District  -0.339328   0.627160   0.075943  \n",
       "PSA       -0.342640   0.627550   0.075807  \n",
       "Latitude   1.000000  -0.431604  -0.037001  \n",
       "Longitude -0.431604   1.000000   0.077593  \n",
       "Object_ID -0.037001   0.077593   1.000000  "
      ]
     },
     "execution_count": 49,
     "metadata": {},
     "output_type": "execute_result"
    }
   ],
   "source": [
    "renamed_df.corr()"
   ]
  },
  {
   "cell_type": "markdown",
   "metadata": {},
   "source": [
    "### Heatmap to Illustrate Correlation"
   ]
  },
  {
   "cell_type": "code",
   "execution_count": 50,
   "metadata": {},
   "outputs": [
    {
     "data": {
      "image/png": "[encoded data removed]",
      "text/plain": [
       "<Figure size 720x576 with 2 Axes>"
      ]
     },
     "metadata": {
      "needs_background": "light"
     },
     "output_type": "display_data"
    }
   ],
   "source": [
    "plt.figure(figsize=(10, 8))\n",
    "sn.heatmap(renamed_df.corr())\n",
    "plt.savefig('Images/Correlation_HeatMap.png')\n",
    "plt.show()"
   ]
  },
  {
   "cell_type": "markdown",
   "metadata": {},
   "source": [
    "# Scatter Plots"
   ]
  },
  {
   "cell_type": "markdown",
   "metadata": {},
   "source": [
    "As discussed above, scatter plots do not illustrate any meaning correlations"
   ]
  },
  {
   "cell_type": "markdown",
   "metadata": {},
   "source": [
    "### Function to Create Scatter Plot"
   ]
  },
  {
   "cell_type": "code",
   "execution_count": 51,
   "metadata": {},
   "outputs": [],
   "source": [
    "def makeScatter(col1, col2, df):  \n",
    "    plt.figure(figsize=(8, 8))\n",
    "    plt.scatter(df[col1], df[col2], c=\"blueviolet\", edgecolors=\"black\", alpha=0.35)\n",
    "    plt.title(f\"{col1.title()} vs {col2.title()}\")\n",
    "    plt.xlabel(f\"{col1.title()}\")\n",
    "    plt.ylabel(f\"{col2.title()}\")\n",
    "    plt.tight_layout\n",
    "    plt.show()"
   ]
  },
  {
   "cell_type": "markdown",
   "metadata": {},
   "source": [
    "### Create List of Variables for Scatter Plots"
   ]
  },
  {
   "cell_type": "code",
   "execution_count": 52,
   "metadata": {},
   "outputs": [],
   "source": [
    "cols = ['CCN', 'XBlock', 'YBlock', 'Ward', 'District', 'PSA', 'Census_Trac',\n",
    "       'Latitude', 'Longitude', 'Object_ID']"
   ]
  },
  {
   "cell_type": "markdown",
   "metadata": {},
   "source": [
    "### Create Scatter Plots for Census Trac"
   ]
  },
  {
   "cell_type": "code",
   "execution_count": null,
   "metadata": {
    "scrolled": true
   },
   "outputs": [],
   "source": [
    "for col in cols:\n",
    "    makeScatter(\"Census_Trac\", col, renamed_df)"
   ]
  },
  {
   "cell_type": "markdown",
   "metadata": {},
   "source": [
    "# Chisquared Analysis"
   ]
  },
  {
   "cell_type": "code",
   "execution_count": null,
   "metadata": {},
   "outputs": [],
   "source": [
    "rr_df = renamed_df.groupby(renamed_df.Census_Trac).count()['CCN']\n",
    "rr_df\n",
    "\n",
    "sub_df = pd.DataFrame(rr_df)\n",
    "sub_df.sort_values('CCN', ascending=False, inplace=True)\n",
    "sub_df = sub_df.head(10)\n",
    "sub_df"
   ]
  },
  {
   "cell_type": "code",
   "execution_count": null,
   "metadata": {},
   "outputs": [],
   "source": [
    "(sub_df['CCN'].sum())/10"
   ]
  },
  {
   "cell_type": "code",
   "execution_count": null,
   "metadata": {},
   "outputs": [],
   "source": [
    "sub_df[\"Expected\"]=643.2"
   ]
  },
  {
   "cell_type": "code",
   "execution_count": null,
   "metadata": {},
   "outputs": [],
   "source": [
    "chisquare(sub_df['CCN'],sub_df['Expected'])"
   ]
  },
  {
   "cell_type": "code",
   "execution_count": null,
   "metadata": {},
   "outputs": [],
   "source": [
    "new_list =[1000, 850, 650, 630, 630, 600, 550, 500, 450, 450]\n",
    "sub_df['Expected']= new_list\n",
    "sub_df"
   ]
  },
  {
   "cell_type": "code",
   "execution_count": null,
   "metadata": {},
   "outputs": [],
   "source": [
    "chisquare(sub_df['CCN'],sub_df['Expected'])"
   ]
  }
 ],
 "metadata": {
  "kernelspec": {
   "display_name": "Python 3",
   "language": "python",
   "name": "python3"
  },
  "language_info": {
   "codemirror_mode": {
    "name": "ipython",
    "version": 3
   },
   "file_extension": ".py",
   "mimetype": "text/x-python",
   "name": "python",
   "nbconvert_exporter": "python",
   "pygments_lexer": "ipython3",
   "version": "3.7.6"
  }
 },
 "nbformat": 4,
 "nbformat_minor": 4
}
