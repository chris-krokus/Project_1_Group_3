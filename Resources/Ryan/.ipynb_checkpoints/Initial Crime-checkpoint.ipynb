{
 "cells": [
  {
   "cell_type": "markdown",
   "metadata": {},
   "source": [
    "# Import Dependencies"
   ]
  },
  {
   "cell_type": "code",
   "execution_count": 24,
   "metadata": {},
   "outputs": [],
   "source": [
    "import matplotlib.pyplot as plt\n",
    "import pandas as pd\n",
    "import scipy.stats as st\n",
    "import numpy as np\n",
    "from scipy.stats import sem\n",
    "from scipy.stats import linregress\n",
    "import statsmodels.api as sm"
   ]
  },
  {
   "cell_type": "markdown",
   "metadata": {},
   "source": [
    "# Import Crime Data"
   ]
  },
  {
   "cell_type": "code",
   "execution_count": 2,
   "metadata": {},
   "outputs": [
    {
     "data": {
      "text/html": [
       "<div>\n",
       "<style scoped>\n",
       "    .dataframe tbody tr th:only-of-type {\n",
       "        vertical-align: middle;\n",
       "    }\n",
       "\n",
       "    .dataframe tbody tr th {\n",
       "        vertical-align: top;\n",
       "    }\n",
       "\n",
       "    .dataframe thead th {\n",
       "        text-align: right;\n",
       "    }\n",
       "</style>\n",
       "<table border=\"1\" class=\"dataframe\">\n",
       "  <thead>\n",
       "    <tr style=\"text-align: right;\">\n",
       "      <th></th>\n",
       "      <th>CCN,C,80</th>\n",
       "      <th>REPORT_DAT,C,80</th>\n",
       "      <th>SHIFT,C,80</th>\n",
       "      <th>METHOD,C,80</th>\n",
       "      <th>OFFENSE,C,80</th>\n",
       "      <th>BLOCK,C,80</th>\n",
       "      <th>XBLOCK,N,10,0</th>\n",
       "      <th>YBLOCK,N,10,0</th>\n",
       "      <th>WARD,C,80</th>\n",
       "      <th>ANC,C,80</th>\n",
       "      <th>...</th>\n",
       "      <th>BLOCK_GROU,C,80</th>\n",
       "      <th>CENSUS_TRA,C,80</th>\n",
       "      <th>VOTING_PRE,C,80</th>\n",
       "      <th>LATITUDE,N,24,15</th>\n",
       "      <th>LONGITUDE,N,24,15</th>\n",
       "      <th>BID,C,80</th>\n",
       "      <th>START_DATE,C,80</th>\n",
       "      <th>END_DATE,C,80</th>\n",
       "      <th>OBJECTID,N,10,0</th>\n",
       "      <th>OCTO_RECOR,C,80</th>\n",
       "    </tr>\n",
       "  </thead>\n",
       "  <tbody>\n",
       "    <tr>\n",
       "      <th>0</th>\n",
       "      <td>2111617</td>\n",
       "      <td>2017-02-06T20:11:14.000Z</td>\n",
       "      <td>EVENING</td>\n",
       "      <td>OTHERS</td>\n",
       "      <td>THEFT/OTHER</td>\n",
       "      <td>600 - 669 BLOCK OF MARYLAND AVENUE NE</td>\n",
       "      <td>400212</td>\n",
       "      <td>136281</td>\n",
       "      <td>6</td>\n",
       "      <td>6C</td>\n",
       "      <td>...</td>\n",
       "      <td>008302 1</td>\n",
       "      <td>8302.0</td>\n",
       "      <td>Precinct 84</td>\n",
       "      <td>38.894376</td>\n",
       "      <td>-76.997556</td>\n",
       "      <td>CAPITOL HILL</td>\n",
       "      <td>2017-02-01T11:55:55.000Z</td>\n",
       "      <td>NaN</td>\n",
       "      <td>306952475</td>\n",
       "      <td>02111617-01</td>\n",
       "    </tr>\n",
       "    <tr>\n",
       "      <th>1</th>\n",
       "      <td>7093973</td>\n",
       "      <td>2017-06-03T12:54:27.000Z</td>\n",
       "      <td>DAY</td>\n",
       "      <td>OTHERS</td>\n",
       "      <td>THEFT F/AUTO</td>\n",
       "      <td>2900 - 2999 BLOCK OF N STREET NW</td>\n",
       "      <td>394912</td>\n",
       "      <td>137666</td>\n",
       "      <td>2</td>\n",
       "      <td>2E</td>\n",
       "      <td>...</td>\n",
       "      <td>000100 4</td>\n",
       "      <td>100.0</td>\n",
       "      <td>Precinct 5</td>\n",
       "      <td>38.906838</td>\n",
       "      <td>-77.058661</td>\n",
       "      <td>NaN</td>\n",
       "      <td>2017-06-03T11:54:03.000Z</td>\n",
       "      <td>2017-06-03T11:55:05.000Z</td>\n",
       "      <td>306952489</td>\n",
       "      <td>07093973-01</td>\n",
       "    </tr>\n",
       "    <tr>\n",
       "      <th>2</th>\n",
       "      <td>17400847</td>\n",
       "      <td>2017-05-25T13:07:34.000Z</td>\n",
       "      <td>DAY</td>\n",
       "      <td>OTHERS</td>\n",
       "      <td>THEFT F/AUTO</td>\n",
       "      <td>4500 - 4599 BLOCK OF BRANDYWINE STREET NW</td>\n",
       "      <td>392231</td>\n",
       "      <td>142425</td>\n",
       "      <td>3</td>\n",
       "      <td>3E</td>\n",
       "      <td>...</td>\n",
       "      <td>001001 3</td>\n",
       "      <td>1001.0</td>\n",
       "      <td>Precinct 31</td>\n",
       "      <td>38.949689</td>\n",
       "      <td>-77.089625</td>\n",
       "      <td>NaN</td>\n",
       "      <td>2017-05-12T23:00:00.000Z</td>\n",
       "      <td>2017-05-13T09:00:00.000Z</td>\n",
       "      <td>306951085</td>\n",
       "      <td>17400847-01</td>\n",
       "    </tr>\n",
       "    <tr>\n",
       "      <th>3</th>\n",
       "      <td>17400849</td>\n",
       "      <td>2017-05-25T19:38:01.000Z</td>\n",
       "      <td>EVENING</td>\n",
       "      <td>OTHERS</td>\n",
       "      <td>THEFT/OTHER</td>\n",
       "      <td>2500 - 2599 BLOCK OF 39TH STREET NW</td>\n",
       "      <td>393318</td>\n",
       "      <td>139472</td>\n",
       "      <td>3</td>\n",
       "      <td>3B</td>\n",
       "      <td>...</td>\n",
       "      <td>000702 1</td>\n",
       "      <td>702.0</td>\n",
       "      <td>Precinct 11</td>\n",
       "      <td>38.923096</td>\n",
       "      <td>-77.077056</td>\n",
       "      <td>NaN</td>\n",
       "      <td>2017-05-14T19:10:00.000Z</td>\n",
       "      <td>2017-05-25T19:10:00.000Z</td>\n",
       "      <td>306951086</td>\n",
       "      <td>17400849-01</td>\n",
       "    </tr>\n",
       "    <tr>\n",
       "      <th>4</th>\n",
       "      <td>17400850</td>\n",
       "      <td>2017-05-25T20:18:37.000Z</td>\n",
       "      <td>EVENING</td>\n",
       "      <td>OTHERS</td>\n",
       "      <td>THEFT/OTHER</td>\n",
       "      <td>4100  - 4199 BLOCK OF 8TH STREET NW</td>\n",
       "      <td>397977</td>\n",
       "      <td>141500</td>\n",
       "      <td>4</td>\n",
       "      <td>4C</td>\n",
       "      <td>...</td>\n",
       "      <td>002400 3</td>\n",
       "      <td>2400.0</td>\n",
       "      <td>Precinct 45</td>\n",
       "      <td>38.941388</td>\n",
       "      <td>-77.023335</td>\n",
       "      <td>NaN</td>\n",
       "      <td>2017-05-09T08:00:00.000Z</td>\n",
       "      <td>2017-05-09T18:00:00.000Z</td>\n",
       "      <td>306951087</td>\n",
       "      <td>17400850-01</td>\n",
       "    </tr>\n",
       "  </tbody>\n",
       "</table>\n",
       "<p>5 rows × 23 columns</p>\n",
       "</div>"
      ],
      "text/plain": [
       "   CCN,C,80           REPORT_DAT,C,80 SHIFT,C,80 METHOD,C,80  OFFENSE,C,80  \\\n",
       "0   2111617  2017-02-06T20:11:14.000Z    EVENING      OTHERS   THEFT/OTHER   \n",
       "1   7093973  2017-06-03T12:54:27.000Z        DAY      OTHERS  THEFT F/AUTO   \n",
       "2  17400847  2017-05-25T13:07:34.000Z        DAY      OTHERS  THEFT F/AUTO   \n",
       "3  17400849  2017-05-25T19:38:01.000Z    EVENING      OTHERS   THEFT/OTHER   \n",
       "4  17400850  2017-05-25T20:18:37.000Z    EVENING      OTHERS   THEFT/OTHER   \n",
       "\n",
       "                                  BLOCK,C,80  XBLOCK,N,10,0  YBLOCK,N,10,0  \\\n",
       "0      600 - 669 BLOCK OF MARYLAND AVENUE NE         400212         136281   \n",
       "1           2900 - 2999 BLOCK OF N STREET NW         394912         137666   \n",
       "2  4500 - 4599 BLOCK OF BRANDYWINE STREET NW         392231         142425   \n",
       "3        2500 - 2599 BLOCK OF 39TH STREET NW         393318         139472   \n",
       "4        4100  - 4199 BLOCK OF 8TH STREET NW         397977         141500   \n",
       "\n",
       "   WARD,C,80 ANC,C,80  ...  BLOCK_GROU,C,80  CENSUS_TRA,C,80 VOTING_PRE,C,80  \\\n",
       "0          6       6C  ...         008302 1           8302.0     Precinct 84   \n",
       "1          2       2E  ...         000100 4            100.0      Precinct 5   \n",
       "2          3       3E  ...         001001 3           1001.0     Precinct 31   \n",
       "3          3       3B  ...         000702 1            702.0     Precinct 11   \n",
       "4          4       4C  ...         002400 3           2400.0     Precinct 45   \n",
       "\n",
       "  LATITUDE,N,24,15  LONGITUDE,N,24,15      BID,C,80           START_DATE,C,80  \\\n",
       "0        38.894376         -76.997556  CAPITOL HILL  2017-02-01T11:55:55.000Z   \n",
       "1        38.906838         -77.058661           NaN  2017-06-03T11:54:03.000Z   \n",
       "2        38.949689         -77.089625           NaN  2017-05-12T23:00:00.000Z   \n",
       "3        38.923096         -77.077056           NaN  2017-05-14T19:10:00.000Z   \n",
       "4        38.941388         -77.023335           NaN  2017-05-09T08:00:00.000Z   \n",
       "\n",
       "              END_DATE,C,80 OBJECTID,N,10,0 OCTO_RECOR,C,80  \n",
       "0                       NaN       306952475     02111617-01  \n",
       "1  2017-06-03T11:55:05.000Z       306952489     07093973-01  \n",
       "2  2017-05-13T09:00:00.000Z       306951085     17400847-01  \n",
       "3  2017-05-25T19:10:00.000Z       306951086     17400849-01  \n",
       "4  2017-05-09T18:00:00.000Z       306951087     17400850-01  \n",
       "\n",
       "[5 rows x 23 columns]"
      ]
     },
     "execution_count": 2,
     "metadata": {},
     "output_type": "execute_result"
    }
   ],
   "source": [
    "filepath = \"../AnyConv.com__Crime_Incidents_in_2017.csv\"\n",
    "df = pd.read_csv(filepath, low_memory=False)\n",
    "\n",
    "df.head()"
   ]
  },
  {
   "cell_type": "markdown",
   "metadata": {},
   "source": [
    "# Overview of Data"
   ]
  },
  {
   "cell_type": "code",
   "execution_count": 3,
   "metadata": {},
   "outputs": [
    {
     "data": {
      "text/plain": [
       "Index(['CCN,C,80', 'REPORT_DAT,C,80', 'SHIFT,C,80', 'METHOD,C,80',\n",
       "       'OFFENSE,C,80', 'BLOCK,C,80', 'XBLOCK,N,10,0', 'YBLOCK,N,10,0',\n",
       "       'WARD,C,80', 'ANC,C,80', 'DISTRICT,C,80', 'PSA,C,80', 'NEIGHBORHO,C,80',\n",
       "       'BLOCK_GROU,C,80', 'CENSUS_TRA,C,80', 'VOTING_PRE,C,80',\n",
       "       'LATITUDE,N,24,15', 'LONGITUDE,N,24,15', 'BID,C,80', 'START_DATE,C,80',\n",
       "       'END_DATE,C,80', 'OBJECTID,N,10,0', 'OCTO_RECOR,C,80'],\n",
       "      dtype='object')"
      ]
     },
     "execution_count": 3,
     "metadata": {},
     "output_type": "execute_result"
    }
   ],
   "source": [
    "df.columns"
   ]
  },
  {
   "cell_type": "markdown",
   "metadata": {},
   "source": [
    "- 33082 rows total\n",
    "- following rows are missing data\n",
    "- DISTRICT,C,80\n",
    "- PSA,C,80\n",
    "- NEIGHBORHO,C,80\n",
    "- BLOCK_GROU,C,80\n",
    "- CENSUS_TRA,C,80\n",
    "- BID,C,80\n",
    "- END_DATE,C,80"
   ]
  },
  {
   "cell_type": "code",
   "execution_count": 4,
   "metadata": {},
   "outputs": [
    {
     "name": "stdout",
     "output_type": "stream",
     "text": [
      "<class 'pandas.core.frame.DataFrame'>\n",
      "RangeIndex: 33082 entries, 0 to 33081\n",
      "Data columns (total 23 columns):\n",
      " #   Column             Non-Null Count  Dtype  \n",
      "---  ------             --------------  -----  \n",
      " 0   CCN,C,80           33082 non-null  int64  \n",
      " 1   REPORT_DAT,C,80    33082 non-null  object \n",
      " 2   SHIFT,C,80         33082 non-null  object \n",
      " 3   METHOD,C,80        33082 non-null  object \n",
      " 4   OFFENSE,C,80       33082 non-null  object \n",
      " 5   BLOCK,C,80         33082 non-null  object \n",
      " 6   XBLOCK,N,10,0      33082 non-null  int64  \n",
      " 7   YBLOCK,N,10,0      33082 non-null  int64  \n",
      " 8   WARD,C,80          33082 non-null  int64  \n",
      " 9   ANC,C,80           33082 non-null  object \n",
      " 10  DISTRICT,C,80      33079 non-null  float64\n",
      " 11  PSA,C,80           33079 non-null  float64\n",
      " 12  NEIGHBORHO,C,80    32712 non-null  object \n",
      " 13  BLOCK_GROU,C,80    32998 non-null  object \n",
      " 14  CENSUS_TRA,C,80    32998 non-null  float64\n",
      " 15  VOTING_PRE,C,80    33082 non-null  object \n",
      " 16  LATITUDE,N,24,15   33082 non-null  float64\n",
      " 17  LONGITUDE,N,24,15  33082 non-null  float64\n",
      " 18  BID,C,80           5830 non-null   object \n",
      " 19  START_DATE,C,80    33082 non-null  object \n",
      " 20  END_DATE,C,80      31585 non-null  object \n",
      " 21  OBJECTID,N,10,0    33082 non-null  int64  \n",
      " 22  OCTO_RECOR,C,80    33082 non-null  object \n",
      "dtypes: float64(5), int64(5), object(13)\n",
      "memory usage: 5.8+ MB\n"
     ]
    }
   ],
   "source": [
    "df.info()"
   ]
  },
  {
   "cell_type": "code",
   "execution_count": 5,
   "metadata": {},
   "outputs": [
    {
     "data": {
      "text/html": [
       "<div>\n",
       "<style scoped>\n",
       "    .dataframe tbody tr th:only-of-type {\n",
       "        vertical-align: middle;\n",
       "    }\n",
       "\n",
       "    .dataframe tbody tr th {\n",
       "        vertical-align: top;\n",
       "    }\n",
       "\n",
       "    .dataframe thead th {\n",
       "        text-align: right;\n",
       "    }\n",
       "</style>\n",
       "<table border=\"1\" class=\"dataframe\">\n",
       "  <thead>\n",
       "    <tr style=\"text-align: right;\">\n",
       "      <th></th>\n",
       "      <th>CCN,C,80</th>\n",
       "      <th>XBLOCK,N,10,0</th>\n",
       "      <th>YBLOCK,N,10,0</th>\n",
       "      <th>WARD,C,80</th>\n",
       "      <th>DISTRICT,C,80</th>\n",
       "      <th>PSA,C,80</th>\n",
       "      <th>CENSUS_TRA,C,80</th>\n",
       "      <th>LATITUDE,N,24,15</th>\n",
       "      <th>LONGITUDE,N,24,15</th>\n",
       "      <th>OBJECTID,N,10,0</th>\n",
       "    </tr>\n",
       "  </thead>\n",
       "  <tbody>\n",
       "    <tr>\n",
       "      <th>count</th>\n",
       "      <td>3.308200e+04</td>\n",
       "      <td>33082.000000</td>\n",
       "      <td>33082.000000</td>\n",
       "      <td>33082.000000</td>\n",
       "      <td>33079.000000</td>\n",
       "      <td>33079.000000</td>\n",
       "      <td>32998.000000</td>\n",
       "      <td>33082.000000</td>\n",
       "      <td>33082.000000</td>\n",
       "      <td>3.308200e+04</td>\n",
       "    </tr>\n",
       "    <tr>\n",
       "      <th>mean</th>\n",
       "      <td>1.712021e+07</td>\n",
       "      <td>399396.652711</td>\n",
       "      <td>137623.379451</td>\n",
       "      <td>4.456139</td>\n",
       "      <td>3.721394</td>\n",
       "      <td>376.871489</td>\n",
       "      <td>6280.434329</td>\n",
       "      <td>38.906463</td>\n",
       "      <td>-77.006963</td>\n",
       "      <td>3.072805e+08</td>\n",
       "    </tr>\n",
       "    <tr>\n",
       "      <th>std</th>\n",
       "      <td>1.502723e+05</td>\n",
       "      <td>3150.374167</td>\n",
       "      <td>3358.194998</td>\n",
       "      <td>2.335491</td>\n",
       "      <td>1.909450</td>\n",
       "      <td>190.730891</td>\n",
       "      <td>3124.047266</td>\n",
       "      <td>0.030251</td>\n",
       "      <td>0.036323</td>\n",
       "      <td>6.578455e+04</td>\n",
       "    </tr>\n",
       "    <tr>\n",
       "      <th>min</th>\n",
       "      <td>2.111617e+06</td>\n",
       "      <td>390262.000000</td>\n",
       "      <td>127300.000000</td>\n",
       "      <td>1.000000</td>\n",
       "      <td>1.000000</td>\n",
       "      <td>101.000000</td>\n",
       "      <td>100.000000</td>\n",
       "      <td>38.813471</td>\n",
       "      <td>-77.112316</td>\n",
       "      <td>3.069501e+08</td>\n",
       "    </tr>\n",
       "    <tr>\n",
       "      <th>25%</th>\n",
       "      <td>1.705836e+07</td>\n",
       "      <td>397302.250000</td>\n",
       "      <td>136093.000000</td>\n",
       "      <td>2.000000</td>\n",
       "      <td>2.000000</td>\n",
       "      <td>207.000000</td>\n",
       "      <td>3600.000000</td>\n",
       "      <td>38.892672</td>\n",
       "      <td>-77.031103</td>\n",
       "      <td>3.072732e+08</td>\n",
       "    </tr>\n",
       "    <tr>\n",
       "      <th>50%</th>\n",
       "      <td>1.711666e+07</td>\n",
       "      <td>399074.000000</td>\n",
       "      <td>137579.000000</td>\n",
       "      <td>5.000000</td>\n",
       "      <td>3.000000</td>\n",
       "      <td>308.000000</td>\n",
       "      <td>7100.000000</td>\n",
       "      <td>38.906061</td>\n",
       "      <td>-77.010676</td>\n",
       "      <td>3.072815e+08</td>\n",
       "    </tr>\n",
       "    <tr>\n",
       "      <th>75%</th>\n",
       "      <td>1.717467e+07</td>\n",
       "      <td>401342.250000</td>\n",
       "      <td>139586.000000</td>\n",
       "      <td>6.000000</td>\n",
       "      <td>5.000000</td>\n",
       "      <td>507.000000</td>\n",
       "      <td>9000.000000</td>\n",
       "      <td>38.924144</td>\n",
       "      <td>-76.984522</td>\n",
       "      <td>3.073028e+08</td>\n",
       "    </tr>\n",
       "    <tr>\n",
       "      <th>max</th>\n",
       "      <td>2.709178e+07</td>\n",
       "      <td>407806.000000</td>\n",
       "      <td>147292.000000</td>\n",
       "      <td>8.000000</td>\n",
       "      <td>7.000000</td>\n",
       "      <td>708.000000</td>\n",
       "      <td>11100.000000</td>\n",
       "      <td>38.993560</td>\n",
       "      <td>-76.910021</td>\n",
       "      <td>3.073348e+08</td>\n",
       "    </tr>\n",
       "  </tbody>\n",
       "</table>\n",
       "</div>"
      ],
      "text/plain": [
       "           CCN,C,80  XBLOCK,N,10,0  YBLOCK,N,10,0     WARD,C,80  \\\n",
       "count  3.308200e+04   33082.000000   33082.000000  33082.000000   \n",
       "mean   1.712021e+07  399396.652711  137623.379451      4.456139   \n",
       "std    1.502723e+05    3150.374167    3358.194998      2.335491   \n",
       "min    2.111617e+06  390262.000000  127300.000000      1.000000   \n",
       "25%    1.705836e+07  397302.250000  136093.000000      2.000000   \n",
       "50%    1.711666e+07  399074.000000  137579.000000      5.000000   \n",
       "75%    1.717467e+07  401342.250000  139586.000000      6.000000   \n",
       "max    2.709178e+07  407806.000000  147292.000000      8.000000   \n",
       "\n",
       "       DISTRICT,C,80      PSA,C,80  CENSUS_TRA,C,80  LATITUDE,N,24,15  \\\n",
       "count   33079.000000  33079.000000     32998.000000      33082.000000   \n",
       "mean        3.721394    376.871489      6280.434329         38.906463   \n",
       "std         1.909450    190.730891      3124.047266          0.030251   \n",
       "min         1.000000    101.000000       100.000000         38.813471   \n",
       "25%         2.000000    207.000000      3600.000000         38.892672   \n",
       "50%         3.000000    308.000000      7100.000000         38.906061   \n",
       "75%         5.000000    507.000000      9000.000000         38.924144   \n",
       "max         7.000000    708.000000     11100.000000         38.993560   \n",
       "\n",
       "       LONGITUDE,N,24,15  OBJECTID,N,10,0  \n",
       "count       33082.000000     3.308200e+04  \n",
       "mean          -77.006963     3.072805e+08  \n",
       "std             0.036323     6.578455e+04  \n",
       "min           -77.112316     3.069501e+08  \n",
       "25%           -77.031103     3.072732e+08  \n",
       "50%           -77.010676     3.072815e+08  \n",
       "75%           -76.984522     3.073028e+08  \n",
       "max           -76.910021     3.073348e+08  "
      ]
     },
     "execution_count": 5,
     "metadata": {},
     "output_type": "execute_result"
    }
   ],
   "source": [
    "df.describe()"
   ]
  },
  {
   "cell_type": "markdown",
   "metadata": {},
   "source": [
    "# Types of Offenses"
   ]
  },
  {
   "cell_type": "code",
   "execution_count": 6,
   "metadata": {},
   "outputs": [
    {
     "data": {
      "text/plain": [
       "array(['THEFT/OTHER', 'THEFT F/AUTO', 'ROBBERY',\n",
       "       'ASSAULT W/DANGEROUS WEAPON', 'MOTOR VEHICLE THEFT', 'BURGLARY',\n",
       "       'SEX ABUSE', 'HOMICIDE', 'ARSON'], dtype=object)"
      ]
     },
     "execution_count": 6,
     "metadata": {},
     "output_type": "execute_result"
    }
   ],
   "source": [
    "df['OFFENSE,C,80'].unique()"
   ]
  },
  {
   "cell_type": "code",
   "execution_count": 22,
   "metadata": {},
   "outputs": [],
   "source": [
    "offense_type = df.groupby(['OFFENSE,C,80']).count()\n",
    "offense_type = offense_type.drop(columns=['REPORT_DAT,C,80', 'SHIFT,C,80', 'METHOD,C,80', 'BLOCK,C,80', 'XBLOCK,N,10,0',\n",
    "                           'YBLOCK,N,10,0',       'WARD,C,80', 'ANC,C,80', 'DISTRICT,C,80', 'PSA,C,80', \n",
    "                           'NEIGHBORHO,C,80', 'BLOCK_GROU,C,80', 'CENSUS_TRA,C,80', 'VOTING_PRE,C,80',\n",
    "                           'LATITUDE,N,24,15', 'LONGITUDE,N,24,15', 'BID,C,80', 'START_DATE,C,80',\n",
    "                           'END_DATE,C,80', 'OBJECTID,N,10,0', 'OCTO_RECOR,C,80'])\n",
    "\n",
    "offense_type = offense_type.sort_values('CCN,C,80', ascending=False)"
   ]
  },
  {
   "cell_type": "code",
   "execution_count": 23,
   "metadata": {
    "scrolled": false
   },
   "outputs": [
    {
     "data": {
      "image/png": "[encoded data removed]",
      "text/plain": [
       "<Figure size 432x288 with 1 Axes>"
      ]
     },
     "metadata": {
      "needs_background": "light"
     },
     "output_type": "display_data"
    }
   ],
   "source": [
    "offense_chart = offense_type.plot(kind=\"bar\", color=\"indianred\", title=\"Types of Crime\")\n",
    "offense_chart.set_ylabel(\"Number of Offenses\")\n",
    "plt.show()"
   ]
  },
  {
   "cell_type": "markdown",
   "metadata": {},
   "source": [
    "# Crime by Neighborhood"
   ]
  },
  {
   "cell_type": "code",
   "execution_count": 78,
   "metadata": {},
   "outputs": [],
   "source": [
    "neighborhood_df = df.groupby(['NEIGHBORHO,C,80']).count()\n",
    "neighborhood_df = neighborhood_df.drop(columns=['REPORT_DAT,C,80', 'SHIFT,C,80', 'METHOD,C,80', 'BLOCK,C,80', 'XBLOCK,N,10,0',\n",
    "                           'YBLOCK,N,10,0',       'WARD,C,80', 'ANC,C,80', 'DISTRICT,C,80', 'PSA,C,80', \n",
    "                           'OFFENSE,C,80', 'BLOCK_GROU,C,80', 'CENSUS_TRA,C,80', 'VOTING_PRE,C,80',\n",
    "                           'LATITUDE,N,24,15', 'LONGITUDE,N,24,15', 'BID,C,80', 'START_DATE,C,80',\n",
    "                           'END_DATE,C,80', 'OBJECTID,N,10,0', 'OCTO_RECOR,C,80'])\n",
    "neighborhood_df = neighborhood_df.sort_values('CCN,C,80', ascending=False)"
   ]
  },
  {
   "cell_type": "code",
   "execution_count": 80,
   "metadata": {},
   "outputs": [
    {
     "data": {
      "image/png": "[encoded data removed]",
      "text/plain": [
       "<Figure size 432x288 with 1 Axes>"
      ]
     },
     "metadata": {
      "needs_background": "light"
     },
     "output_type": "display_data"
    }
   ],
   "source": [
    "neighborhood_chart = neighborhood_df.plot(kind=\"hist\", color=\"indianred\", title=\"Histogram of Crime by Neighborhood\")\n",
    "neighborhood_chart.set_ylabel(\"Neighborhood\")\n",
    "neighborhood_chart.set_ylabel(\"Number of Offenses\")\n",
    "plt.show()"
   ]
  },
  {
   "cell_type": "markdown",
   "metadata": {},
   "source": [
    "### Limit Dataframe to Top 10 Neighborhoods"
   ]
  },
  {
   "cell_type": "code",
   "execution_count": 72,
   "metadata": {},
   "outputs": [],
   "source": [
    "neighborhood_df = neighborhood_df.head(10)"
   ]
  },
  {
   "cell_type": "code",
   "execution_count": 73,
   "metadata": {},
   "outputs": [
    {
     "data": {
      "image/png": "[encoded data removed]",
      "text/plain": [
       "<Figure size 432x288 with 1 Axes>"
      ]
     },
     "metadata": {
      "needs_background": "light"
     },
     "output_type": "display_data"
    }
   ],
   "source": [
    "neighborhood_chart = neighborhood_df.plot(kind=\"bar\", color=\"indianred\", title=\"Crime by Neighborhood\")\n",
    "neighborhood_chart.set_ylabel(\"Neighborhood\")\n",
    "neighborhood_chart.set_ylabel(\"Number of Offenses\")\n",
    "plt.show()"
   ]
  },
  {
   "cell_type": "markdown",
   "metadata": {},
   "source": [
    "# Crime by Census Track"
   ]
  },
  {
   "cell_type": "code",
   "execution_count": 81,
   "metadata": {},
   "outputs": [
    {
     "data": {
      "text/html": [
       "<div>\n",
       "<style scoped>\n",
       "    .dataframe tbody tr th:only-of-type {\n",
       "        vertical-align: middle;\n",
       "    }\n",
       "\n",
       "    .dataframe tbody tr th {\n",
       "        vertical-align: top;\n",
       "    }\n",
       "\n",
       "    .dataframe thead th {\n",
       "        text-align: right;\n",
       "    }\n",
       "</style>\n",
       "<table border=\"1\" class=\"dataframe\">\n",
       "  <thead>\n",
       "    <tr style=\"text-align: right;\">\n",
       "      <th></th>\n",
       "      <th>CCN,C,80</th>\n",
       "    </tr>\n",
       "    <tr>\n",
       "      <th>CENSUS_TRA,C,80</th>\n",
       "      <th></th>\n",
       "    </tr>\n",
       "  </thead>\n",
       "  <tbody>\n",
       "    <tr>\n",
       "      <th>5800.0</th>\n",
       "      <td>1053</td>\n",
       "    </tr>\n",
       "    <tr>\n",
       "      <th>4400.0</th>\n",
       "      <td>870</td>\n",
       "    </tr>\n",
       "    <tr>\n",
       "      <th>10700.0</th>\n",
       "      <td>659</td>\n",
       "    </tr>\n",
       "    <tr>\n",
       "      <th>10600.0</th>\n",
       "      <td>629</td>\n",
       "    </tr>\n",
       "    <tr>\n",
       "      <th>11100.0</th>\n",
       "      <td>626</td>\n",
       "    </tr>\n",
       "    <tr>\n",
       "      <th>...</th>\n",
       "      <td>...</td>\n",
       "    </tr>\n",
       "    <tr>\n",
       "      <th>400.0</th>\n",
       "      <td>31</td>\n",
       "    </tr>\n",
       "    <tr>\n",
       "      <th>1301.0</th>\n",
       "      <td>25</td>\n",
       "    </tr>\n",
       "    <tr>\n",
       "      <th>201.0</th>\n",
       "      <td>23</td>\n",
       "    </tr>\n",
       "    <tr>\n",
       "      <th>702.0</th>\n",
       "      <td>23</td>\n",
       "    </tr>\n",
       "    <tr>\n",
       "      <th>7301.0</th>\n",
       "      <td>2</td>\n",
       "    </tr>\n",
       "  </tbody>\n",
       "</table>\n",
       "<p>179 rows × 1 columns</p>\n",
       "</div>"
      ],
      "text/plain": [
       "                 CCN,C,80\n",
       "CENSUS_TRA,C,80          \n",
       "5800.0               1053\n",
       "4400.0                870\n",
       "10700.0               659\n",
       "10600.0               629\n",
       "11100.0               626\n",
       "...                   ...\n",
       "400.0                  31\n",
       "1301.0                 25\n",
       "201.0                  23\n",
       "702.0                  23\n",
       "7301.0                  2\n",
       "\n",
       "[179 rows x 1 columns]"
      ]
     },
     "execution_count": 81,
     "metadata": {},
     "output_type": "execute_result"
    }
   ],
   "source": [
    "census_df = df.groupby(['CENSUS_TRA,C,80']).count()\n",
    "census_df = census_df.sort_values('CCN,C,80', ascending=False)\n",
    "census_df = census_df.drop(columns=['REPORT_DAT,C,80', 'SHIFT,C,80', 'METHOD,C,80',\n",
    "       'OFFENSE,C,80', 'BLOCK,C,80', 'XBLOCK,N,10,0', 'YBLOCK,N,10,0',\n",
    "       'WARD,C,80', 'ANC,C,80', 'DISTRICT,C,80', 'PSA,C,80', 'NEIGHBORHO,C,80',\n",
    "       'BLOCK_GROU,C,80', 'VOTING_PRE,C,80',\n",
    "       'LATITUDE,N,24,15', 'LONGITUDE,N,24,15', 'BID,C,80', 'START_DATE,C,80',\n",
    "       'END_DATE,C,80', 'OBJECTID,N,10,0', 'OCTO_RECOR,C,80'])\n",
    "census_df"
   ]
  },
  {
   "cell_type": "code",
   "execution_count": 82,
   "metadata": {},
   "outputs": [
    {
     "data": {
      "image/png": "[encoded data removed]",
      "text/plain": [
       "<Figure size 432x288 with 1 Axes>"
      ]
     },
     "metadata": {
      "needs_background": "light"
     },
     "output_type": "display_data"
    }
   ],
   "source": [
    "census_chart = census_df.plot(kind=\"hist\", color=\"indianred\", title=\"Histogram Crime by Census Track\")\n",
    "census_chart.set_ylabel(\"Neighborhood\")\n",
    "census_chart.set_ylabel(\"Number of Offenses\")\n",
    "plt.show()"
   ]
  },
  {
   "cell_type": "code",
   "execution_count": 83,
   "metadata": {},
   "outputs": [],
   "source": [
    "census_df = census_df.head(10)"
   ]
  },
  {
   "cell_type": "code",
   "execution_count": 84,
   "metadata": {},
   "outputs": [
    {
     "data": {
      "image/png": "[encoded data removed]",
      "text/plain": [
       "<Figure size 432x288 with 1 Axes>"
      ]
     },
     "metadata": {
      "needs_background": "light"
     },
     "output_type": "display_data"
    }
   ],
   "source": [
    "census_chart = census_df.plot(kind=\"bar\", color=\"indianred\", title=\"Crime by Census Track\")\n",
    "census_chart.set_ylabel(\"Neighborhood\")\n",
    "census_chart.set_ylabel(\"Number of Offenses\")\n",
    "plt.show()"
   ]
  },
  {
   "cell_type": "code",
   "execution_count": null,
   "metadata": {},
   "outputs": [],
   "source": []
  },
  {
   "cell_type": "code",
   "execution_count": null,
   "metadata": {},
   "outputs": [],
   "source": []
  },
  {
   "cell_type": "markdown",
   "metadata": {},
   "source": []
  }
 ],
 "metadata": {
  "kernelspec": {
   "display_name": "Python 3",
   "language": "python",
   "name": "python3"
  },
  "language_info": {
   "codemirror_mode": {
    "name": "ipython",
    "version": 3
   },
   "file_extension": ".py",
   "mimetype": "text/x-python",
   "name": "python",
   "nbconvert_exporter": "python",
   "pygments_lexer": "ipython3",
   "version": "3.7.6"
  }
 },
 "nbformat": 4,
 "nbformat_minor": 4
}
